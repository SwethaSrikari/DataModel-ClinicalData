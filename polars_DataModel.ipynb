{
 "cells": [
  {
   "cell_type": "code",
   "execution_count": null,
   "id": "890cad94",
   "metadata": {},
   "outputs": [],
   "source": [
    "# !pip install polars"
   ]
  },
  {
   "cell_type": "code",
   "execution_count": 1,
   "id": "80e53b50",
   "metadata": {},
   "outputs": [],
   "source": [
    "# Import necessary libraries\n",
    "import polars as pl\n",
    "import time"
   ]
  },
  {
   "cell_type": "code",
   "execution_count": 2,
   "id": "f4219d20",
   "metadata": {},
   "outputs": [
    {
     "name": "stdout",
     "output_type": "stream",
     "text": [
      "Time taken to load datasets  0.0399479866027832\n"
     ]
    }
   ],
   "source": [
    "# Load data\n",
    "t1 = time.time()\n",
    "\n",
    "# Try parse dates checks for date columns and sets data type to datetime while loading data\n",
    "users = pl.read_csv('Data/users.csv', try_parse_dates=True)\n",
    "weights = pl.read_csv('Data/weights.csv', try_parse_dates=True)\n",
    "treatments = pl.read_csv('Data/treatments.csv', try_parse_dates=True)\n",
    "\n",
    "t2 = time.time()\n",
    "print('Time taken to load datasets ', t2-t1)"
   ]
  },
  {
   "cell_type": "code",
   "execution_count": 3,
   "id": "d45e4792",
   "metadata": {},
   "outputs": [
    {
     "name": "stdout",
     "output_type": "stream",
     "text": [
      "Time taken to merge datasets  0.013592243194580078\n"
     ]
    }
   ],
   "source": [
    "# Left join dataframes: Users <> Weights, Treatments\n",
    "t1= time.time()\n",
    "\n",
    "uw = users.join(weights, left_on='UID',\n",
    "                right_on='MasterUserID',\n",
    "                how='left')\n",
    "merged_df = uw.join(treatments,\n",
    "                    left_on='UID', right_on='MasterUserID',\n",
    "                    how='left')\n",
    "\n",
    "t2 = time.time()\n",
    "print('Time taken to merge datasets ', t2-t1)"
   ]
  },
  {
   "cell_type": "code",
   "execution_count": 4,
   "id": "6b50aba1",
   "metadata": {},
   "outputs": [
    {
     "data": {
      "text/html": [
       "<div><style>\n",
       ".dataframe > thead > tr > th,\n",
       ".dataframe > tbody > tr > td {\n",
       "  text-align: right;\n",
       "  white-space: pre-wrap;\n",
       "}\n",
       "</style>\n",
       "<small>shape: (5, 27)</small><table border=\"1\" class=\"dataframe\"><thead><tr><th>UID</th><th>Name</th><th>LastName</th><th>Gender</th><th>Unit</th><th>Birthday</th><th>Age</th><th>Height</th><th>CreatedDate</th><th>IsActive</th><th>ClinicID</th><th>loginId</th><th>success</th><th>Weight</th><th>BMI</th><th>BodyFat</th><th>BodyWater</th><th>Bone</th><th>VisceralFat</th><th>BMR</th><th>MuscleMass</th><th>CreatedDate_right</th><th>UpdatedDate</th><th>IsActive_right</th><th>IsDelete</th><th>TreatmentTypeID</th><th>StartDate</th></tr><tr><td>str</td><td>str</td><td>str</td><td>str</td><td>i64</td><td>datetime[μs]</td><td>i64</td><td>i64</td><td>datetime[μs]</td><td>bool</td><td>i64</td><td>str</td><td>bool</td><td>f64</td><td>f64</td><td>f64</td><td>f64</td><td>f64</td><td>f64</td><td>f64</td><td>f64</td><td>datetime[μs]</td><td>datetime[μs]</td><td>bool</td><td>bool</td><td>i64</td><td>datetime[μs]</td></tr></thead><tbody><tr><td>&quot;77f03b02-1a05-…</td><td>&quot;Jay&quot;</td><td>&quot;Hood&quot;</td><td>&quot;Male&quot;</td><td>0</td><td>1960-06-19 14:32:36</td><td>63</td><td>170</td><td>2023-03-08 18:54:42</td><td>true</td><td>5066</td><td>null</td><td>true</td><td>86.8</td><td>30.0</td><td>26.9</td><td>50.0</td><td>3.0</td><td>12.8</td><td>1709.4</td><td>57.2</td><td>2023-05-16 18:54:42</td><td>2023-05-16 18:54:42</td><td>true</td><td>false</td><td>1</td><td>2023-03-08 18:54:42</td></tr><tr><td>&quot;77f03b02-1a05-…</td><td>&quot;Jay&quot;</td><td>&quot;Hood&quot;</td><td>&quot;Male&quot;</td><td>0</td><td>1960-06-19 14:32:36</td><td>63</td><td>170</td><td>2023-03-08 18:54:42</td><td>true</td><td>5066</td><td>null</td><td>true</td><td>87.9</td><td>30.4</td><td>27.1</td><td>48.4</td><td>3.0</td><td>12.9</td><td>1724.0</td><td>57.0</td><td>2023-04-23 18:54:42</td><td>2023-04-23 18:54:42</td><td>true</td><td>false</td><td>1</td><td>2023-03-08 18:54:42</td></tr><tr><td>&quot;77f03b02-1a05-…</td><td>&quot;Jay&quot;</td><td>&quot;Hood&quot;</td><td>&quot;Male&quot;</td><td>0</td><td>1960-06-19 14:32:36</td><td>63</td><td>170</td><td>2023-03-08 18:54:42</td><td>true</td><td>5066</td><td>null</td><td>true</td><td>87.3</td><td>30.2</td><td>27.1</td><td>48.8</td><td>3.0</td><td>12.9</td><td>1716.2</td><td>57.0</td><td>2023-05-05 18:54:42</td><td>2023-05-05 18:54:42</td><td>true</td><td>false</td><td>1</td><td>2023-03-08 18:54:42</td></tr><tr><td>&quot;77f03b02-1a05-…</td><td>&quot;Jay&quot;</td><td>&quot;Hood&quot;</td><td>&quot;Male&quot;</td><td>0</td><td>1960-06-19 14:32:36</td><td>63</td><td>170</td><td>2023-03-08 18:54:42</td><td>true</td><td>5066</td><td>null</td><td>true</td><td>84.1</td><td>29.1</td><td>25.5</td><td>51.0</td><td>2.6</td><td>12.7</td><td>1673.6</td><td>55.9</td><td>2023-06-30 18:54:42</td><td>2023-06-30 18:54:42</td><td>true</td><td>false</td><td>1</td><td>2023-03-08 18:54:42</td></tr><tr><td>&quot;77f03b02-1a05-…</td><td>&quot;Jay&quot;</td><td>&quot;Hood&quot;</td><td>&quot;Male&quot;</td><td>0</td><td>1960-06-19 14:32:36</td><td>63</td><td>170</td><td>2023-03-08 18:54:42</td><td>true</td><td>5066</td><td>null</td><td>true</td><td>86.6</td><td>30.0</td><td>26.8</td><td>50.0</td><td>3.0</td><td>12.8</td><td>1706.4</td><td>57.2</td><td>2023-05-20 18:54:42</td><td>2023-05-20 18:54:42</td><td>true</td><td>false</td><td>1</td><td>2023-03-08 18:54:42</td></tr></tbody></table></div>"
      ],
      "text/plain": [
       "shape: (5, 27)\n",
       "┌──────────────┬──────┬──────────┬────────┬───┬─────────────┬──────────┬─────────────┬─────────────┐\n",
       "│ UID          ┆ Name ┆ LastName ┆ Gender ┆ … ┆ IsActive_ri ┆ IsDelete ┆ TreatmentTy ┆ StartDate   │\n",
       "│ ---          ┆ ---  ┆ ---      ┆ ---    ┆   ┆ ght         ┆ ---      ┆ peID        ┆ ---         │\n",
       "│ str          ┆ str  ┆ str      ┆ str    ┆   ┆ ---         ┆ bool     ┆ ---         ┆ datetime[μs │\n",
       "│              ┆      ┆          ┆        ┆   ┆ bool        ┆          ┆ i64         ┆ ]           │\n",
       "╞══════════════╪══════╪══════════╪════════╪═══╪═════════════╪══════════╪═════════════╪═════════════╡\n",
       "│ 77f03b02-1a0 ┆ Jay  ┆ Hood     ┆ Male   ┆ … ┆ true        ┆ false    ┆ 1           ┆ 2023-03-08  │\n",
       "│ 5-11ee-a492- ┆      ┆          ┆        ┆   ┆             ┆          ┆             ┆ 18:54:42    │\n",
       "│ eaf1cf2f…    ┆      ┆          ┆        ┆   ┆             ┆          ┆             ┆             │\n",
       "│ 77f03b02-1a0 ┆ Jay  ┆ Hood     ┆ Male   ┆ … ┆ true        ┆ false    ┆ 1           ┆ 2023-03-08  │\n",
       "│ 5-11ee-a492- ┆      ┆          ┆        ┆   ┆             ┆          ┆             ┆ 18:54:42    │\n",
       "│ eaf1cf2f…    ┆      ┆          ┆        ┆   ┆             ┆          ┆             ┆             │\n",
       "│ 77f03b02-1a0 ┆ Jay  ┆ Hood     ┆ Male   ┆ … ┆ true        ┆ false    ┆ 1           ┆ 2023-03-08  │\n",
       "│ 5-11ee-a492- ┆      ┆          ┆        ┆   ┆             ┆          ┆             ┆ 18:54:42    │\n",
       "│ eaf1cf2f…    ┆      ┆          ┆        ┆   ┆             ┆          ┆             ┆             │\n",
       "│ 77f03b02-1a0 ┆ Jay  ┆ Hood     ┆ Male   ┆ … ┆ true        ┆ false    ┆ 1           ┆ 2023-03-08  │\n",
       "│ 5-11ee-a492- ┆      ┆          ┆        ┆   ┆             ┆          ┆             ┆ 18:54:42    │\n",
       "│ eaf1cf2f…    ┆      ┆          ┆        ┆   ┆             ┆          ┆             ┆             │\n",
       "│ 77f03b02-1a0 ┆ Jay  ┆ Hood     ┆ Male   ┆ … ┆ true        ┆ false    ┆ 1           ┆ 2023-03-08  │\n",
       "│ 5-11ee-a492- ┆      ┆          ┆        ┆   ┆             ┆          ┆             ┆ 18:54:42    │\n",
       "│ eaf1cf2f…    ┆      ┆          ┆        ┆   ┆             ┆          ┆             ┆             │\n",
       "└──────────────┴──────┴──────────┴────────┴───┴─────────────┴──────────┴─────────────┴─────────────┘"
      ]
     },
     "execution_count": 4,
     "metadata": {},
     "output_type": "execute_result"
    }
   ],
   "source": [
    "merged_df.head()"
   ]
  },
  {
   "cell_type": "code",
   "execution_count": 5,
   "id": "04d629b4",
   "metadata": {},
   "outputs": [
    {
     "data": {
      "text/html": [
       "<div><style>\n",
       ".dataframe > thead > tr > th,\n",
       ".dataframe > tbody > tr > td {\n",
       "  text-align: right;\n",
       "  white-space: pre-wrap;\n",
       "}\n",
       "</style>\n",
       "<small>shape: (5, 27)</small><table border=\"1\" class=\"dataframe\"><thead><tr><th>UID</th><th>Name</th><th>LastName</th><th>Gender</th><th>Unit</th><th>Birthday</th><th>Age</th><th>Height</th><th>UIDCreatedDate</th><th>User_IsActive</th><th>ClinicID</th><th>loginId</th><th>success</th><th>Weight</th><th>BMI</th><th>BodyFat</th><th>BodyWater</th><th>Bone</th><th>VisceralFat</th><th>BMR</th><th>MuscleMass</th><th>Weights_CreatedDate</th><th>Weights_UpdatedDate</th><th>Weights_IsActive</th><th>Weights_IsDelete</th><th>TreatmentTypeID</th><th>Treatment_StartDate</th></tr><tr><td>str</td><td>str</td><td>str</td><td>str</td><td>i64</td><td>datetime[μs]</td><td>i64</td><td>i64</td><td>datetime[μs]</td><td>bool</td><td>i64</td><td>str</td><td>bool</td><td>f64</td><td>f64</td><td>f64</td><td>f64</td><td>f64</td><td>f64</td><td>f64</td><td>f64</td><td>datetime[μs]</td><td>datetime[μs]</td><td>bool</td><td>bool</td><td>i64</td><td>datetime[μs]</td></tr></thead><tbody><tr><td>&quot;77f03b02-1a05-…</td><td>&quot;Jay&quot;</td><td>&quot;Hood&quot;</td><td>&quot;Male&quot;</td><td>0</td><td>1960-06-19 14:32:36</td><td>63</td><td>170</td><td>2023-03-08 18:54:42</td><td>true</td><td>5066</td><td>null</td><td>true</td><td>86.8</td><td>30.0</td><td>26.9</td><td>50.0</td><td>3.0</td><td>12.8</td><td>1709.4</td><td>57.2</td><td>2023-05-16 18:54:42</td><td>2023-05-16 18:54:42</td><td>true</td><td>false</td><td>1</td><td>2023-03-08 18:54:42</td></tr><tr><td>&quot;77f03b02-1a05-…</td><td>&quot;Jay&quot;</td><td>&quot;Hood&quot;</td><td>&quot;Male&quot;</td><td>0</td><td>1960-06-19 14:32:36</td><td>63</td><td>170</td><td>2023-03-08 18:54:42</td><td>true</td><td>5066</td><td>null</td><td>true</td><td>87.9</td><td>30.4</td><td>27.1</td><td>48.4</td><td>3.0</td><td>12.9</td><td>1724.0</td><td>57.0</td><td>2023-04-23 18:54:42</td><td>2023-04-23 18:54:42</td><td>true</td><td>false</td><td>1</td><td>2023-03-08 18:54:42</td></tr><tr><td>&quot;77f03b02-1a05-…</td><td>&quot;Jay&quot;</td><td>&quot;Hood&quot;</td><td>&quot;Male&quot;</td><td>0</td><td>1960-06-19 14:32:36</td><td>63</td><td>170</td><td>2023-03-08 18:54:42</td><td>true</td><td>5066</td><td>null</td><td>true</td><td>87.3</td><td>30.2</td><td>27.1</td><td>48.8</td><td>3.0</td><td>12.9</td><td>1716.2</td><td>57.0</td><td>2023-05-05 18:54:42</td><td>2023-05-05 18:54:42</td><td>true</td><td>false</td><td>1</td><td>2023-03-08 18:54:42</td></tr><tr><td>&quot;77f03b02-1a05-…</td><td>&quot;Jay&quot;</td><td>&quot;Hood&quot;</td><td>&quot;Male&quot;</td><td>0</td><td>1960-06-19 14:32:36</td><td>63</td><td>170</td><td>2023-03-08 18:54:42</td><td>true</td><td>5066</td><td>null</td><td>true</td><td>84.1</td><td>29.1</td><td>25.5</td><td>51.0</td><td>2.6</td><td>12.7</td><td>1673.6</td><td>55.9</td><td>2023-06-30 18:54:42</td><td>2023-06-30 18:54:42</td><td>true</td><td>false</td><td>1</td><td>2023-03-08 18:54:42</td></tr><tr><td>&quot;77f03b02-1a05-…</td><td>&quot;Jay&quot;</td><td>&quot;Hood&quot;</td><td>&quot;Male&quot;</td><td>0</td><td>1960-06-19 14:32:36</td><td>63</td><td>170</td><td>2023-03-08 18:54:42</td><td>true</td><td>5066</td><td>null</td><td>true</td><td>86.6</td><td>30.0</td><td>26.8</td><td>50.0</td><td>3.0</td><td>12.8</td><td>1706.4</td><td>57.2</td><td>2023-05-20 18:54:42</td><td>2023-05-20 18:54:42</td><td>true</td><td>false</td><td>1</td><td>2023-03-08 18:54:42</td></tr></tbody></table></div>"
      ],
      "text/plain": [
       "shape: (5, 27)\n",
       "┌─────────────┬──────┬──────────┬────────┬───┬─────────────┬─────────────┬────────────┬────────────┐\n",
       "│ UID         ┆ Name ┆ LastName ┆ Gender ┆ … ┆ Weights_IsA ┆ Weights_IsD ┆ TreatmentT ┆ Treatment_ │\n",
       "│ ---         ┆ ---  ┆ ---      ┆ ---    ┆   ┆ ctive       ┆ elete       ┆ ypeID      ┆ StartDate  │\n",
       "│ str         ┆ str  ┆ str      ┆ str    ┆   ┆ ---         ┆ ---         ┆ ---        ┆ ---        │\n",
       "│             ┆      ┆          ┆        ┆   ┆ bool        ┆ bool        ┆ i64        ┆ datetime[μ │\n",
       "│             ┆      ┆          ┆        ┆   ┆             ┆             ┆            ┆ s]         │\n",
       "╞═════════════╪══════╪══════════╪════════╪═══╪═════════════╪═════════════╪════════════╪════════════╡\n",
       "│ 77f03b02-1a ┆ Jay  ┆ Hood     ┆ Male   ┆ … ┆ true        ┆ false       ┆ 1          ┆ 2023-03-08 │\n",
       "│ 05-11ee-a49 ┆      ┆          ┆        ┆   ┆             ┆             ┆            ┆ 18:54:42   │\n",
       "│ 2-eaf1cf2f… ┆      ┆          ┆        ┆   ┆             ┆             ┆            ┆            │\n",
       "│ 77f03b02-1a ┆ Jay  ┆ Hood     ┆ Male   ┆ … ┆ true        ┆ false       ┆ 1          ┆ 2023-03-08 │\n",
       "│ 05-11ee-a49 ┆      ┆          ┆        ┆   ┆             ┆             ┆            ┆ 18:54:42   │\n",
       "│ 2-eaf1cf2f… ┆      ┆          ┆        ┆   ┆             ┆             ┆            ┆            │\n",
       "│ 77f03b02-1a ┆ Jay  ┆ Hood     ┆ Male   ┆ … ┆ true        ┆ false       ┆ 1          ┆ 2023-03-08 │\n",
       "│ 05-11ee-a49 ┆      ┆          ┆        ┆   ┆             ┆             ┆            ┆ 18:54:42   │\n",
       "│ 2-eaf1cf2f… ┆      ┆          ┆        ┆   ┆             ┆             ┆            ┆            │\n",
       "│ 77f03b02-1a ┆ Jay  ┆ Hood     ┆ Male   ┆ … ┆ true        ┆ false       ┆ 1          ┆ 2023-03-08 │\n",
       "│ 05-11ee-a49 ┆      ┆          ┆        ┆   ┆             ┆             ┆            ┆ 18:54:42   │\n",
       "│ 2-eaf1cf2f… ┆      ┆          ┆        ┆   ┆             ┆             ┆            ┆            │\n",
       "│ 77f03b02-1a ┆ Jay  ┆ Hood     ┆ Male   ┆ … ┆ true        ┆ false       ┆ 1          ┆ 2023-03-08 │\n",
       "│ 05-11ee-a49 ┆      ┆          ┆        ┆   ┆             ┆             ┆            ┆ 18:54:42   │\n",
       "│ 2-eaf1cf2f… ┆      ┆          ┆        ┆   ┆             ┆             ┆            ┆            │\n",
       "└─────────────┴──────┴──────────┴────────┴───┴─────────────┴─────────────┴────────────┴────────────┘"
      ]
     },
     "execution_count": 5,
     "metadata": {},
     "output_type": "execute_result"
    }
   ],
   "source": [
    "# Rename columns for better understanding\n",
    "columns_to_rename = {'CreatedDate': 'UIDCreatedDate',\n",
    "                     'IsActive': 'User_IsActive',\n",
    "                     'CreatedDate_right': 'Weights_CreatedDate',\n",
    "                     'UpdatedDate': 'Weights_UpdatedDate',\n",
    "                     'IsActive_right': 'Weights_IsActive',\n",
    "                     'IsDelete': 'Weights_IsDelete',\n",
    "                     'StartDate': 'Treatment_StartDate',\n",
    "                     }\n",
    "merged_df = merged_df.rename(columns_to_rename)\n",
    "merged_df.head()"
   ]
  },
  {
   "cell_type": "code",
   "execution_count": 6,
   "id": "1f0ca220",
   "metadata": {},
   "outputs": [
    {
     "name": "stdout",
     "output_type": "stream",
     "text": [
      "Time taken to sort dataset  0.011187076568603516\n"
     ]
    },
    {
     "data": {
      "text/html": [
       "<div><style>\n",
       ".dataframe > thead > tr > th,\n",
       ".dataframe > tbody > tr > td {\n",
       "  text-align: right;\n",
       "  white-space: pre-wrap;\n",
       "}\n",
       "</style>\n",
       "<small>shape: (5, 27)</small><table border=\"1\" class=\"dataframe\"><thead><tr><th>UID</th><th>Name</th><th>LastName</th><th>Gender</th><th>Unit</th><th>Birthday</th><th>Age</th><th>Height</th><th>UIDCreatedDate</th><th>User_IsActive</th><th>ClinicID</th><th>loginId</th><th>success</th><th>Weight</th><th>BMI</th><th>BodyFat</th><th>BodyWater</th><th>Bone</th><th>VisceralFat</th><th>BMR</th><th>MuscleMass</th><th>Weights_CreatedDate</th><th>Weights_UpdatedDate</th><th>Weights_IsActive</th><th>Weights_IsDelete</th><th>TreatmentTypeID</th><th>Treatment_StartDate</th></tr><tr><td>str</td><td>str</td><td>str</td><td>str</td><td>i64</td><td>datetime[μs]</td><td>i64</td><td>i64</td><td>datetime[μs]</td><td>bool</td><td>i64</td><td>str</td><td>bool</td><td>f64</td><td>f64</td><td>f64</td><td>f64</td><td>f64</td><td>f64</td><td>f64</td><td>f64</td><td>datetime[μs]</td><td>datetime[μs]</td><td>bool</td><td>bool</td><td>i64</td><td>datetime[μs]</td></tr></thead><tbody><tr><td>&quot;004af604-1a06-…</td><td>&quot;Cindy&quot;</td><td>&quot;Hartman&quot;</td><td>&quot;Female&quot;</td><td>1</td><td>1964-05-29 04:25:43</td><td>59</td><td>162</td><td>2023-04-16 18:54:42</td><td>true</td><td>5066</td><td>null</td><td>true</td><td>87.4</td><td>33.3</td><td>37.1</td><td>41.6</td><td>2.9</td><td>9.7</td><td>1502.0</td><td>47.4</td><td>2023-04-18 18:54:42</td><td>2023-04-18 18:54:42</td><td>true</td><td>false</td><td>1</td><td>2023-04-16 18:54:42</td></tr><tr><td>&quot;004af604-1a06-…</td><td>&quot;Cindy&quot;</td><td>&quot;Hartman&quot;</td><td>&quot;Female&quot;</td><td>1</td><td>1964-05-29 04:25:43</td><td>59</td><td>162</td><td>2023-04-16 18:54:42</td><td>true</td><td>5066</td><td>null</td><td>true</td><td>84.9</td><td>32.4</td><td>36.4</td><td>41.7</td><td>3.0</td><td>9.3</td><td>1479.2</td><td>46.4</td><td>2023-04-26 18:54:42</td><td>2023-04-26 18:54:42</td><td>true</td><td>false</td><td>1</td><td>2023-04-16 18:54:42</td></tr><tr><td>&quot;004af604-1a06-…</td><td>&quot;Cindy&quot;</td><td>&quot;Hartman&quot;</td><td>&quot;Female&quot;</td><td>1</td><td>1964-05-29 04:25:43</td><td>59</td><td>162</td><td>2023-04-16 18:54:42</td><td>true</td><td>5066</td><td>null</td><td>true</td><td>85.7</td><td>32.7</td><td>35.6</td><td>41.8</td><td>3.0</td><td>9.3</td><td>1486.9</td><td>46.3</td><td>2023-05-01 18:54:42</td><td>2023-05-01 18:54:42</td><td>true</td><td>false</td><td>1</td><td>2023-04-16 18:54:42</td></tr><tr><td>&quot;004af604-1a06-…</td><td>&quot;Cindy&quot;</td><td>&quot;Hartman&quot;</td><td>&quot;Female&quot;</td><td>1</td><td>1964-05-29 04:25:43</td><td>59</td><td>162</td><td>2023-04-16 18:54:42</td><td>true</td><td>5066</td><td>null</td><td>true</td><td>84.6</td><td>32.2</td><td>34.6</td><td>41.9</td><td>3.0</td><td>9.3</td><td>1476.0</td><td>46.0</td><td>2023-05-05 18:54:42</td><td>2023-05-05 18:54:42</td><td>true</td><td>false</td><td>1</td><td>2023-04-16 18:54:42</td></tr><tr><td>&quot;004af604-1a06-…</td><td>&quot;Cindy&quot;</td><td>&quot;Hartman&quot;</td><td>&quot;Female&quot;</td><td>1</td><td>1964-05-29 04:25:43</td><td>59</td><td>162</td><td>2023-04-16 18:54:42</td><td>true</td><td>5066</td><td>null</td><td>true</td><td>84.8</td><td>32.3</td><td>31.1</td><td>42.7</td><td>3.1</td><td>9.3</td><td>1478.2</td><td>45.5</td><td>2023-05-12 18:54:42</td><td>2023-05-12 18:54:42</td><td>true</td><td>false</td><td>1</td><td>2023-04-16 18:54:42</td></tr></tbody></table></div>"
      ],
      "text/plain": [
       "shape: (5, 27)\n",
       "┌─────────────┬───────┬──────────┬────────┬───┬─────────────┬────────────┬────────────┬────────────┐\n",
       "│ UID         ┆ Name  ┆ LastName ┆ Gender ┆ … ┆ Weights_IsA ┆ Weights_Is ┆ TreatmentT ┆ Treatment_ │\n",
       "│ ---         ┆ ---   ┆ ---      ┆ ---    ┆   ┆ ctive       ┆ Delete     ┆ ypeID      ┆ StartDate  │\n",
       "│ str         ┆ str   ┆ str      ┆ str    ┆   ┆ ---         ┆ ---        ┆ ---        ┆ ---        │\n",
       "│             ┆       ┆          ┆        ┆   ┆ bool        ┆ bool       ┆ i64        ┆ datetime[μ │\n",
       "│             ┆       ┆          ┆        ┆   ┆             ┆            ┆            ┆ s]         │\n",
       "╞═════════════╪═══════╪══════════╪════════╪═══╪═════════════╪════════════╪════════════╪════════════╡\n",
       "│ 004af604-1a ┆ Cindy ┆ Hartman  ┆ Female ┆ … ┆ true        ┆ false      ┆ 1          ┆ 2023-04-16 │\n",
       "│ 06-11ee-a49 ┆       ┆          ┆        ┆   ┆             ┆            ┆            ┆ 18:54:42   │\n",
       "│ 2-eaf1cf2f… ┆       ┆          ┆        ┆   ┆             ┆            ┆            ┆            │\n",
       "│ 004af604-1a ┆ Cindy ┆ Hartman  ┆ Female ┆ … ┆ true        ┆ false      ┆ 1          ┆ 2023-04-16 │\n",
       "│ 06-11ee-a49 ┆       ┆          ┆        ┆   ┆             ┆            ┆            ┆ 18:54:42   │\n",
       "│ 2-eaf1cf2f… ┆       ┆          ┆        ┆   ┆             ┆            ┆            ┆            │\n",
       "│ 004af604-1a ┆ Cindy ┆ Hartman  ┆ Female ┆ … ┆ true        ┆ false      ┆ 1          ┆ 2023-04-16 │\n",
       "│ 06-11ee-a49 ┆       ┆          ┆        ┆   ┆             ┆            ┆            ┆ 18:54:42   │\n",
       "│ 2-eaf1cf2f… ┆       ┆          ┆        ┆   ┆             ┆            ┆            ┆            │\n",
       "│ 004af604-1a ┆ Cindy ┆ Hartman  ┆ Female ┆ … ┆ true        ┆ false      ┆ 1          ┆ 2023-04-16 │\n",
       "│ 06-11ee-a49 ┆       ┆          ┆        ┆   ┆             ┆            ┆            ┆ 18:54:42   │\n",
       "│ 2-eaf1cf2f… ┆       ┆          ┆        ┆   ┆             ┆            ┆            ┆            │\n",
       "│ 004af604-1a ┆ Cindy ┆ Hartman  ┆ Female ┆ … ┆ true        ┆ false      ┆ 1          ┆ 2023-04-16 │\n",
       "│ 06-11ee-a49 ┆       ┆          ┆        ┆   ┆             ┆            ┆            ┆ 18:54:42   │\n",
       "│ 2-eaf1cf2f… ┆       ┆          ┆        ┆   ┆             ┆            ┆            ┆            │\n",
       "└─────────────┴───────┴──────────┴────────┴───┴─────────────┴────────────┴────────────┴────────────┘"
      ]
     },
     "execution_count": 6,
     "metadata": {},
     "output_type": "execute_result"
    }
   ],
   "source": [
    "# Sort by 'UID', 'UIDCreatedDate', 'TreatmentTypeID', 'Treatment_StartDate',\n",
    "# 'Weights_CreatedDate', 'Weights_UpdatedDate'\n",
    "t1 = time.time()\n",
    "\n",
    "merged_df = merged_df.sort(by=['UID',\n",
    "                               'UIDCreatedDate',\n",
    "                               'TreatmentTypeID',\n",
    "                               'Treatment_StartDate',\n",
    "                               'Weights_CreatedDate',\n",
    "                               'Weights_UpdatedDate'])\n",
    "\n",
    "\n",
    "t2 = time.time()\n",
    "print('Time taken to sort dataset ', t2-t1)\n",
    "merged_df.head()"
   ]
  },
  {
   "cell_type": "markdown",
   "id": "cb5ea40d",
   "metadata": {},
   "source": [
    "# Calculations"
   ]
  },
  {
   "cell_type": "code",
   "execution_count": 18,
   "id": "1887be1d",
   "metadata": {},
   "outputs": [],
   "source": [
    "# The difference between the treatment start date and the weights created/updated \n",
    "# can be used to calculate the month/week from the start of the treatment\n",
    "\n",
    "# Number of days in a week/month\n",
    "merged_df = merged_df.with_columns(days_in_month=pl.lit(30.417))\n",
    "merged_df = merged_df.with_columns(days_in_week=pl.lit(7))\n",
    "\n",
    "datediff = pl.col('Weights_CreatedDate') - pl.col('Treatment_StartDate')\n",
    "merged_df = merged_df.with_columns(datediff.alias('datediff'))\n",
    "\n",
    "# Calculate the number of months since treatment start date\n",
    "merged_df = merged_df.with_columns(((pl.col('datediff') / pl.duration(days=\"days_in_month\")).floor()).alias('month'))\n",
    "\n",
    "# Calculate the number of weeks since treatment start date\n",
    "merged_df = merged_df.with_columns(((pl.col('datediff') / pl.duration(days=\"days_in_week\")).floor()).alias('week'))"
   ]
  },
  {
   "cell_type": "code",
   "execution_count": 19,
   "id": "54ccb433",
   "metadata": {},
   "outputs": [
    {
     "data": {
      "text/html": [
       "<div><style>\n",
       ".dataframe > thead > tr > th,\n",
       ".dataframe > tbody > tr > td {\n",
       "  text-align: right;\n",
       "  white-space: pre-wrap;\n",
       "}\n",
       "</style>\n",
       "<small>shape: (32_073, 39)</small><table border=\"1\" class=\"dataframe\"><thead><tr><th>UID</th><th>Name</th><th>LastName</th><th>Gender</th><th>Unit</th><th>Birthday</th><th>Age</th><th>Height</th><th>UIDCreatedDate</th><th>User_IsActive</th><th>ClinicID</th><th>loginId</th><th>success</th><th>Weight</th><th>BMI</th><th>BodyFat</th><th>BodyWater</th><th>Bone</th><th>VisceralFat</th><th>BMR</th><th>MuscleMass</th><th>Weights_CreatedDate</th><th>Weights_UpdatedDate</th><th>Weights_IsActive</th><th>Weights_IsDelete</th><th>TreatmentTypeID</th><th>Treatment_StartDate</th><th>days_in_month</th><th>days_in_week</th><th>datediff</th><th>month</th><th>week</th><th>weigh_in_rate</th><th>patient_starting_weight</th><th>treatment_starting_weight</th><th>treatment_ending_weight</th><th>treatment_TBWL</th><th>wgt_diff</th><th>patient_TBWL</th></tr><tr><td>str</td><td>str</td><td>str</td><td>str</td><td>i64</td><td>datetime[μs]</td><td>i64</td><td>i64</td><td>datetime[μs]</td><td>bool</td><td>i64</td><td>str</td><td>bool</td><td>f64</td><td>f64</td><td>f64</td><td>f64</td><td>f64</td><td>f64</td><td>f64</td><td>f64</td><td>datetime[μs]</td><td>datetime[μs]</td><td>bool</td><td>bool</td><td>i64</td><td>datetime[μs]</td><td>f64</td><td>i32</td><td>duration[μs]</td><td>f64</td><td>f64</td><td>u32</td><td>f64</td><td>f64</td><td>f64</td><td>f64</td><td>f64</td><td>f64</td></tr></thead><tbody><tr><td>&quot;004af604-1a06-…</td><td>&quot;Cindy&quot;</td><td>&quot;Hartman&quot;</td><td>&quot;Female&quot;</td><td>1</td><td>1964-05-29 04:25:43</td><td>59</td><td>162</td><td>2023-04-16 18:54:42</td><td>true</td><td>5066</td><td>null</td><td>true</td><td>87.4</td><td>33.3</td><td>37.1</td><td>41.6</td><td>2.9</td><td>9.7</td><td>1502.0</td><td>47.4</td><td>2023-04-18 18:54:42</td><td>2023-04-18 18:54:42</td><td>true</td><td>false</td><td>1</td><td>2023-04-16 18:54:42</td><td>30.417</td><td>7</td><td>2d</td><td>0.0</td><td>0.0</td><td>1</td><td>87.4</td><td>87.4</td><td>78.7</td><td>-8.7</td><td>2.5</td><td>2.5</td></tr><tr><td>&quot;004af604-1a06-…</td><td>&quot;Cindy&quot;</td><td>&quot;Hartman&quot;</td><td>&quot;Female&quot;</td><td>1</td><td>1964-05-29 04:25:43</td><td>59</td><td>162</td><td>2023-04-16 18:54:42</td><td>true</td><td>5066</td><td>null</td><td>true</td><td>84.9</td><td>32.4</td><td>36.4</td><td>41.7</td><td>3.0</td><td>9.3</td><td>1479.2</td><td>46.4</td><td>2023-04-26 18:54:42</td><td>2023-04-26 18:54:42</td><td>true</td><td>false</td><td>1</td><td>2023-04-16 18:54:42</td><td>30.417</td><td>7</td><td>10d</td><td>0.0</td><td>1.0</td><td>1</td><td>87.4</td><td>87.4</td><td>78.7</td><td>-8.7</td><td>-0.8</td><td>-0.8</td></tr><tr><td>&quot;004af604-1a06-…</td><td>&quot;Cindy&quot;</td><td>&quot;Hartman&quot;</td><td>&quot;Female&quot;</td><td>1</td><td>1964-05-29 04:25:43</td><td>59</td><td>162</td><td>2023-04-16 18:54:42</td><td>true</td><td>5066</td><td>null</td><td>true</td><td>85.7</td><td>32.7</td><td>35.6</td><td>41.8</td><td>3.0</td><td>9.3</td><td>1486.9</td><td>46.3</td><td>2023-05-01 18:54:42</td><td>2023-05-01 18:54:42</td><td>true</td><td>false</td><td>1</td><td>2023-04-16 18:54:42</td><td>30.417</td><td>7</td><td>15d</td><td>0.0</td><td>2.0</td><td>2</td><td>87.4</td><td>87.4</td><td>78.7</td><td>-8.7</td><td>0.0</td><td>0.9</td></tr><tr><td>&quot;004af604-1a06-…</td><td>&quot;Cindy&quot;</td><td>&quot;Hartman&quot;</td><td>&quot;Female&quot;</td><td>1</td><td>1964-05-29 04:25:43</td><td>59</td><td>162</td><td>2023-04-16 18:54:42</td><td>true</td><td>5066</td><td>null</td><td>true</td><td>84.6</td><td>32.2</td><td>34.6</td><td>41.9</td><td>3.0</td><td>9.3</td><td>1476.0</td><td>46.0</td><td>2023-05-05 18:54:42</td><td>2023-05-05 18:54:42</td><td>true</td><td>false</td><td>1</td><td>2023-04-16 18:54:42</td><td>30.417</td><td>7</td><td>19d</td><td>0.0</td><td>2.0</td><td>2</td><td>87.4</td><td>87.4</td><td>78.7</td><td>-8.7</td><td>0.9</td><td>0.9</td></tr><tr><td>&quot;004af604-1a06-…</td><td>&quot;Cindy&quot;</td><td>&quot;Hartman&quot;</td><td>&quot;Female&quot;</td><td>1</td><td>1964-05-29 04:25:43</td><td>59</td><td>162</td><td>2023-04-16 18:54:42</td><td>true</td><td>5066</td><td>null</td><td>true</td><td>84.8</td><td>32.3</td><td>31.1</td><td>42.7</td><td>3.1</td><td>9.3</td><td>1478.2</td><td>45.5</td><td>2023-05-12 18:54:42</td><td>2023-05-12 18:54:42</td><td>true</td><td>false</td><td>1</td><td>2023-04-16 18:54:42</td><td>30.417</td><td>7</td><td>26d</td><td>0.0</td><td>3.0</td><td>2</td><td>87.4</td><td>87.4</td><td>78.7</td><td>-8.7</td><td>0.0</td><td>1.8</td></tr><tr><td>&quot;004af604-1a06-…</td><td>&quot;Cindy&quot;</td><td>&quot;Hartman&quot;</td><td>&quot;Female&quot;</td><td>1</td><td>1964-05-29 04:25:43</td><td>59</td><td>162</td><td>2023-04-16 18:54:42</td><td>true</td><td>5066</td><td>null</td><td>true</td><td>84.9</td><td>32.3</td><td>31.0</td><td>42.7</td><td>3.0</td><td>9.3</td><td>1478.6</td><td>45.4</td><td>2023-05-13 18:54:42</td><td>2023-05-13 18:54:42</td><td>true</td><td>false</td><td>1</td><td>2023-04-16 18:54:42</td><td>30.417</td><td>7</td><td>27d</td><td>0.0</td><td>3.0</td><td>2</td><td>87.4</td><td>87.4</td><td>78.7</td><td>-8.7</td><td>1.8</td><td>1.8</td></tr><tr><td>&quot;004af604-1a06-…</td><td>&quot;Cindy&quot;</td><td>&quot;Hartman&quot;</td><td>&quot;Female&quot;</td><td>1</td><td>1964-05-29 04:25:43</td><td>59</td><td>162</td><td>2023-04-16 18:54:42</td><td>true</td><td>5066</td><td>null</td><td>true</td><td>83.0</td><td>31.6</td><td>30.8</td><td>43.0</td><td>2.9</td><td>9.3</td><td>1461.3</td><td>45.3</td><td>2023-05-17 18:54:42</td><td>2023-05-17 18:54:42</td><td>true</td><td>false</td><td>1</td><td>2023-04-16 18:54:42</td><td>30.417</td><td>7</td><td>31d</td><td>1.0</td><td>4.0</td><td>3</td><td>87.4</td><td>87.4</td><td>78.7</td><td>-8.7</td><td>0.0</td><td>0.6</td></tr><tr><td>&quot;004af604-1a06-…</td><td>&quot;Cindy&quot;</td><td>&quot;Hartman&quot;</td><td>&quot;Female&quot;</td><td>1</td><td>1964-05-29 04:25:43</td><td>59</td><td>162</td><td>2023-04-16 18:54:42</td><td>true</td><td>5066</td><td>null</td><td>true</td><td>82.8</td><td>31.5</td><td>30.7</td><td>43.1</td><td>2.9</td><td>9.3</td><td>1459.3</td><td>45.2</td><td>2023-05-19 18:54:42</td><td>2023-05-19 18:54:42</td><td>true</td><td>false</td><td>1</td><td>2023-04-16 18:54:42</td><td>30.417</td><td>7</td><td>33d</td><td>1.0</td><td>4.0</td><td>3</td><td>87.4</td><td>87.4</td><td>78.7</td><td>-8.7</td><td>0.0</td><td>0.6</td></tr><tr><td>&quot;004af604-1a06-…</td><td>&quot;Cindy&quot;</td><td>&quot;Hartman&quot;</td><td>&quot;Female&quot;</td><td>1</td><td>1964-05-29 04:25:43</td><td>59</td><td>162</td><td>2023-04-16 18:54:42</td><td>true</td><td>5066</td><td>null</td><td>true</td><td>82.6</td><td>31.5</td><td>30.6</td><td>43.2</td><td>2.9</td><td>9.3</td><td>1458.1</td><td>45.0</td><td>2023-05-20 18:54:42</td><td>2023-05-20 18:54:42</td><td>true</td><td>false</td><td>1</td><td>2023-04-16 18:54:42</td><td>30.417</td><td>7</td><td>34d</td><td>1.0</td><td>4.0</td><td>3</td><td>87.4</td><td>87.4</td><td>78.7</td><td>-8.7</td><td>0.6</td><td>0.6</td></tr><tr><td>&quot;004af604-1a06-…</td><td>&quot;Cindy&quot;</td><td>&quot;Hartman&quot;</td><td>&quot;Female&quot;</td><td>1</td><td>1964-05-29 04:25:43</td><td>59</td><td>162</td><td>2023-04-16 18:54:42</td><td>true</td><td>5066</td><td>null</td><td>true</td><td>82.4</td><td>31.4</td><td>30.6</td><td>43.2</td><td>3.0</td><td>9.3</td><td>1455.5</td><td>44.9</td><td>2023-05-22 18:54:42</td><td>2023-05-22 18:54:42</td><td>true</td><td>false</td><td>1</td><td>2023-04-16 18:54:42</td><td>30.417</td><td>7</td><td>36d</td><td>1.0</td><td>5.0</td><td>3</td><td>87.4</td><td>87.4</td><td>78.7</td><td>-8.7</td><td>0.0</td><td>0.4</td></tr><tr><td>&quot;004af604-1a06-…</td><td>&quot;Cindy&quot;</td><td>&quot;Hartman&quot;</td><td>&quot;Female&quot;</td><td>1</td><td>1964-05-29 04:25:43</td><td>59</td><td>162</td><td>2023-04-16 18:54:42</td><td>true</td><td>5066</td><td>null</td><td>true</td><td>82.5</td><td>31.4</td><td>30.6</td><td>43.2</td><td>2.9</td><td>9.3</td><td>1456.5</td><td>44.9</td><td>2023-05-24 18:54:42</td><td>2023-05-24 18:54:42</td><td>true</td><td>false</td><td>1</td><td>2023-04-16 18:54:42</td><td>30.417</td><td>7</td><td>38d</td><td>1.0</td><td>5.0</td><td>3</td><td>87.4</td><td>87.4</td><td>78.7</td><td>-8.7</td><td>0.0</td><td>0.4</td></tr><tr><td>&quot;004af604-1a06-…</td><td>&quot;Cindy&quot;</td><td>&quot;Hartman&quot;</td><td>&quot;Female&quot;</td><td>1</td><td>1964-05-29 04:25:43</td><td>59</td><td>162</td><td>2023-04-16 18:54:42</td><td>true</td><td>5066</td><td>null</td><td>true</td><td>82.4</td><td>31.4</td><td>30.5</td><td>43.3</td><td>2.9</td><td>9.3</td><td>1455.9</td><td>44.9</td><td>2023-05-25 18:54:42</td><td>2023-05-25 18:54:42</td><td>true</td><td>false</td><td>1</td><td>2023-04-16 18:54:42</td><td>30.417</td><td>7</td><td>39d</td><td>1.0</td><td>5.0</td><td>3</td><td>87.4</td><td>87.4</td><td>78.7</td><td>-8.7</td><td>0.4</td><td>0.4</td></tr><tr><td>&hellip;</td><td>&hellip;</td><td>&hellip;</td><td>&hellip;</td><td>&hellip;</td><td>&hellip;</td><td>&hellip;</td><td>&hellip;</td><td>&hellip;</td><td>&hellip;</td><td>&hellip;</td><td>&hellip;</td><td>&hellip;</td><td>&hellip;</td><td>&hellip;</td><td>&hellip;</td><td>&hellip;</td><td>&hellip;</td><td>&hellip;</td><td>&hellip;</td><td>&hellip;</td><td>&hellip;</td><td>&hellip;</td><td>&hellip;</td><td>&hellip;</td><td>&hellip;</td><td>&hellip;</td><td>&hellip;</td><td>&hellip;</td><td>&hellip;</td><td>&hellip;</td><td>&hellip;</td><td>&hellip;</td><td>&hellip;</td><td>&hellip;</td><td>&hellip;</td><td>&hellip;</td><td>&hellip;</td><td>&hellip;</td></tr><tr><td>&quot;ffe36516-1a05-…</td><td>&quot;Jody&quot;</td><td>&quot;Mitchell&quot;</td><td>&quot;Female&quot;</td><td>1</td><td>1989-03-06 21:07:18</td><td>34</td><td>164</td><td>2023-04-11 18:54:42</td><td>true</td><td>5066</td><td>null</td><td>true</td><td>70.3</td><td>26.1</td><td>28.8</td><td>50.6</td><td>2.5</td><td>16.2</td><td>1458.7</td><td>48.1</td><td>2023-06-07 18:54:42</td><td>2023-06-07 18:54:42</td><td>true</td><td>false</td><td>1</td><td>2023-04-11 18:54:42</td><td>30.417</td><td>7</td><td>57d</td><td>1.0</td><td>8.0</td><td>3</td><td>77.6</td><td>77.6</td><td>66.5</td><td>-11.1</td><td>0.0</td><td>0.7</td></tr><tr><td>&quot;ffe36516-1a05-…</td><td>&quot;Jody&quot;</td><td>&quot;Mitchell&quot;</td><td>&quot;Female&quot;</td><td>1</td><td>1989-03-06 21:07:18</td><td>34</td><td>164</td><td>2023-04-11 18:54:42</td><td>true</td><td>5066</td><td>null</td><td>true</td><td>70.3</td><td>26.1</td><td>28.7</td><td>50.6</td><td>2.5</td><td>16.2</td><td>1458.3</td><td>48.1</td><td>2023-06-08 18:54:42</td><td>2023-06-08 18:54:42</td><td>true</td><td>false</td><td>1</td><td>2023-04-11 18:54:42</td><td>30.417</td><td>7</td><td>58d</td><td>1.0</td><td>8.0</td><td>3</td><td>77.6</td><td>77.6</td><td>66.5</td><td>-11.1</td><td>0.0</td><td>0.7</td></tr><tr><td>&quot;ffe36516-1a05-…</td><td>&quot;Jody&quot;</td><td>&quot;Mitchell&quot;</td><td>&quot;Female&quot;</td><td>1</td><td>1989-03-06 21:07:18</td><td>34</td><td>164</td><td>2023-04-11 18:54:42</td><td>true</td><td>5066</td><td>null</td><td>true</td><td>70.0</td><td>26.0</td><td>29.0</td><td>50.7</td><td>2.5</td><td>16.2</td><td>1455.7</td><td>48.1</td><td>2023-06-10 18:54:42</td><td>2023-06-10 18:54:42</td><td>true</td><td>false</td><td>1</td><td>2023-04-11 18:54:42</td><td>30.417</td><td>7</td><td>60d</td><td>2.0</td><td>8.0</td><td>3</td><td>77.6</td><td>77.6</td><td>66.5</td><td>-11.1</td><td>0.7</td><td>0.7</td></tr><tr><td>&quot;ffe36516-1a05-…</td><td>&quot;Jody&quot;</td><td>&quot;Mitchell&quot;</td><td>&quot;Female&quot;</td><td>1</td><td>1989-03-06 21:07:18</td><td>34</td><td>164</td><td>2023-04-11 18:54:42</td><td>true</td><td>5066</td><td>null</td><td>true</td><td>69.6</td><td>25.9</td><td>28.8</td><td>51.1</td><td>2.5</td><td>16.2</td><td>1451.7</td><td>47.9</td><td>2023-06-15 18:54:42</td><td>2023-06-15 18:54:42</td><td>true</td><td>false</td><td>1</td><td>2023-04-11 18:54:42</td><td>30.417</td><td>7</td><td>65d</td><td>2.0</td><td>9.0</td><td>4</td><td>77.6</td><td>77.6</td><td>66.5</td><td>-11.1</td><td>0.0</td><td>2.7</td></tr><tr><td>&quot;ffe36516-1a05-…</td><td>&quot;Jody&quot;</td><td>&quot;Mitchell&quot;</td><td>&quot;Female&quot;</td><td>1</td><td>1989-03-06 21:07:18</td><td>34</td><td>164</td><td>2023-04-11 18:54:42</td><td>true</td><td>5066</td><td>null</td><td>true</td><td>69.5</td><td>25.9</td><td>28.8</td><td>51.1</td><td>2.5</td><td>16.2</td><td>1451.6</td><td>47.7</td><td>2023-06-16 18:54:42</td><td>2023-06-16 18:54:42</td><td>true</td><td>false</td><td>1</td><td>2023-04-11 18:54:42</td><td>30.417</td><td>7</td><td>66d</td><td>2.0</td><td>9.0</td><td>4</td><td>77.6</td><td>77.6</td><td>66.5</td><td>-11.1</td><td>0.0</td><td>2.7</td></tr><tr><td>&quot;ffe36516-1a05-…</td><td>&quot;Jody&quot;</td><td>&quot;Mitchell&quot;</td><td>&quot;Female&quot;</td><td>1</td><td>1989-03-06 21:07:18</td><td>34</td><td>164</td><td>2023-04-11 18:54:42</td><td>true</td><td>5066</td><td>null</td><td>true</td><td>69.6</td><td>25.9</td><td>28.8</td><td>51.1</td><td>2.5</td><td>16.2</td><td>1451.7</td><td>47.7</td><td>2023-06-17 18:54:42</td><td>2023-06-17 18:54:42</td><td>true</td><td>false</td><td>1</td><td>2023-04-11 18:54:42</td><td>30.417</td><td>7</td><td>67d</td><td>2.0</td><td>9.0</td><td>4</td><td>77.6</td><td>77.6</td><td>66.5</td><td>-11.1</td><td>0.0</td><td>2.7</td></tr><tr><td>&quot;ffe36516-1a05-…</td><td>&quot;Jody&quot;</td><td>&quot;Mitchell&quot;</td><td>&quot;Female&quot;</td><td>1</td><td>1989-03-06 21:07:18</td><td>34</td><td>164</td><td>2023-04-11 18:54:42</td><td>true</td><td>5066</td><td>null</td><td>true</td><td>69.5</td><td>25.8</td><td>28.8</td><td>50.9</td><td>2.5</td><td>16.2</td><td>1451.3</td><td>47.7</td><td>2023-06-18 18:54:42</td><td>2023-06-18 18:54:42</td><td>true</td><td>false</td><td>1</td><td>2023-04-11 18:54:42</td><td>30.417</td><td>7</td><td>68d</td><td>2.0</td><td>9.0</td><td>4</td><td>77.6</td><td>77.6</td><td>66.5</td><td>-11.1</td><td>2.7</td><td>2.7</td></tr><tr><td>&quot;ffe36516-1a05-…</td><td>&quot;Jody&quot;</td><td>&quot;Mitchell&quot;</td><td>&quot;Female&quot;</td><td>1</td><td>1989-03-06 21:07:18</td><td>34</td><td>164</td><td>2023-04-11 18:54:42</td><td>true</td><td>5066</td><td>null</td><td>true</td><td>66.9</td><td>24.9</td><td>28.6</td><td>51.0</td><td>2.5</td><td>16.2</td><td>1426.7</td><td>47.4</td><td>2023-06-23 18:54:42</td><td>2023-06-23 18:54:42</td><td>true</td><td>false</td><td>1</td><td>2023-04-11 18:54:42</td><td>30.417</td><td>7</td><td>73d</td><td>2.0</td><td>10.0</td><td>2</td><td>77.6</td><td>77.6</td><td>66.5</td><td>-11.1</td><td>0.0</td><td>0.1</td></tr><tr><td>&quot;ffe36516-1a05-…</td><td>&quot;Jody&quot;</td><td>&quot;Mitchell&quot;</td><td>&quot;Female&quot;</td><td>1</td><td>1989-03-06 21:07:18</td><td>34</td><td>164</td><td>2023-04-11 18:54:42</td><td>true</td><td>5066</td><td>null</td><td>true</td><td>66.8</td><td>24.8</td><td>28.6</td><td>51.9</td><td>2.5</td><td>16.2</td><td>1426.1</td><td>47.5</td><td>2023-06-26 18:54:42</td><td>2023-06-26 18:54:42</td><td>true</td><td>false</td><td>1</td><td>2023-04-11 18:54:42</td><td>30.417</td><td>7</td><td>76d</td><td>2.0</td><td>10.0</td><td>2</td><td>77.6</td><td>77.6</td><td>66.5</td><td>-11.1</td><td>0.1</td><td>0.1</td></tr><tr><td>&quot;ffe36516-1a05-…</td><td>&quot;Jody&quot;</td><td>&quot;Mitchell&quot;</td><td>&quot;Female&quot;</td><td>1</td><td>1989-03-06 21:07:18</td><td>34</td><td>164</td><td>2023-04-11 18:54:42</td><td>true</td><td>5066</td><td>null</td><td>true</td><td>66.8</td><td>24.8</td><td>28.6</td><td>51.9</td><td>2.5</td><td>16.2</td><td>1425.8</td><td>47.6</td><td>2023-06-27 18:54:42</td><td>2023-06-27 18:54:42</td><td>true</td><td>false</td><td>1</td><td>2023-04-11 18:54:42</td><td>30.417</td><td>7</td><td>77d</td><td>2.0</td><td>11.0</td><td>3</td><td>77.6</td><td>77.6</td><td>66.5</td><td>-11.1</td><td>0.0</td><td>0.0</td></tr><tr><td>&quot;ffe36516-1a05-…</td><td>&quot;Jody&quot;</td><td>&quot;Mitchell&quot;</td><td>&quot;Female&quot;</td><td>1</td><td>1989-03-06 21:07:18</td><td>34</td><td>164</td><td>2023-04-11 18:54:42</td><td>true</td><td>5066</td><td>null</td><td>true</td><td>66.7</td><td>24.8</td><td>28.5</td><td>51.9</td><td>2.4</td><td>16.2</td><td>1425.3</td><td>47.5</td><td>2023-07-02 18:54:42</td><td>2023-07-02 18:54:42</td><td>true</td><td>false</td><td>1</td><td>2023-04-11 18:54:42</td><td>30.417</td><td>7</td><td>82d</td><td>2.0</td><td>11.0</td><td>3</td><td>77.6</td><td>77.6</td><td>66.5</td><td>-11.1</td><td>0.0</td><td>0.0</td></tr><tr><td>&quot;ffe36516-1a05-…</td><td>&quot;Jody&quot;</td><td>&quot;Mitchell&quot;</td><td>&quot;Female&quot;</td><td>1</td><td>1989-03-06 21:07:18</td><td>34</td><td>164</td><td>2023-04-11 18:54:42</td><td>true</td><td>5066</td><td>null</td><td>true</td><td>66.5</td><td>24.7</td><td>28.4</td><td>51.8</td><td>2.4</td><td>16.2</td><td>1423.7</td><td>47.5</td><td>2023-07-03 18:54:42</td><td>2023-07-03 18:54:42</td><td>true</td><td>false</td><td>1</td><td>2023-04-11 18:54:42</td><td>30.417</td><td>7</td><td>83d</td><td>2.0</td><td>11.0</td><td>3</td><td>77.6</td><td>77.6</td><td>66.5</td><td>-11.1</td><td>null</td><td>0.0</td></tr></tbody></table></div>"
      ],
      "text/plain": [
       "shape: (32_073, 39)\n",
       "┌─────────────┬───────┬──────────┬────────┬───┬─────────────┬─────────────┬──────────┬─────────────┐\n",
       "│ UID         ┆ Name  ┆ LastName ┆ Gender ┆ … ┆ treatment_e ┆ treatment_T ┆ wgt_diff ┆ patient_TBW │\n",
       "│ ---         ┆ ---   ┆ ---      ┆ ---    ┆   ┆ nding_weigh ┆ BWL         ┆ ---      ┆ L           │\n",
       "│ str         ┆ str   ┆ str      ┆ str    ┆   ┆ t           ┆ ---         ┆ f64      ┆ ---         │\n",
       "│             ┆       ┆          ┆        ┆   ┆ ---         ┆ f64         ┆          ┆ f64         │\n",
       "│             ┆       ┆          ┆        ┆   ┆ f64         ┆             ┆          ┆             │\n",
       "╞═════════════╪═══════╪══════════╪════════╪═══╪═════════════╪═════════════╪══════════╪═════════════╡\n",
       "│ 004af604-1a ┆ Cindy ┆ Hartman  ┆ Female ┆ … ┆ 78.7        ┆ -8.7        ┆ 2.5      ┆ 2.5         │\n",
       "│ 06-11ee-a49 ┆       ┆          ┆        ┆   ┆             ┆             ┆          ┆             │\n",
       "│ 2-eaf1cf2f… ┆       ┆          ┆        ┆   ┆             ┆             ┆          ┆             │\n",
       "│ 004af604-1a ┆ Cindy ┆ Hartman  ┆ Female ┆ … ┆ 78.7        ┆ -8.7        ┆ -0.8     ┆ -0.8        │\n",
       "│ 06-11ee-a49 ┆       ┆          ┆        ┆   ┆             ┆             ┆          ┆             │\n",
       "│ 2-eaf1cf2f… ┆       ┆          ┆        ┆   ┆             ┆             ┆          ┆             │\n",
       "│ 004af604-1a ┆ Cindy ┆ Hartman  ┆ Female ┆ … ┆ 78.7        ┆ -8.7        ┆ 0.0      ┆ 0.9         │\n",
       "│ 06-11ee-a49 ┆       ┆          ┆        ┆   ┆             ┆             ┆          ┆             │\n",
       "│ 2-eaf1cf2f… ┆       ┆          ┆        ┆   ┆             ┆             ┆          ┆             │\n",
       "│ 004af604-1a ┆ Cindy ┆ Hartman  ┆ Female ┆ … ┆ 78.7        ┆ -8.7        ┆ 0.9      ┆ 0.9         │\n",
       "│ 06-11ee-a49 ┆       ┆          ┆        ┆   ┆             ┆             ┆          ┆             │\n",
       "│ 2-eaf1cf2f… ┆       ┆          ┆        ┆   ┆             ┆             ┆          ┆             │\n",
       "│ …           ┆ …     ┆ …        ┆ …      ┆ … ┆ …           ┆ …           ┆ …        ┆ …           │\n",
       "│ ffe36516-1a ┆ Jody  ┆ Mitchell ┆ Female ┆ … ┆ 66.5        ┆ -11.1       ┆ 0.1      ┆ 0.1         │\n",
       "│ 05-11ee-a49 ┆       ┆          ┆        ┆   ┆             ┆             ┆          ┆             │\n",
       "│ 2-eaf1cf2f… ┆       ┆          ┆        ┆   ┆             ┆             ┆          ┆             │\n",
       "│ ffe36516-1a ┆ Jody  ┆ Mitchell ┆ Female ┆ … ┆ 66.5        ┆ -11.1       ┆ 0.0      ┆ 0.0         │\n",
       "│ 05-11ee-a49 ┆       ┆          ┆        ┆   ┆             ┆             ┆          ┆             │\n",
       "│ 2-eaf1cf2f… ┆       ┆          ┆        ┆   ┆             ┆             ┆          ┆             │\n",
       "│ ffe36516-1a ┆ Jody  ┆ Mitchell ┆ Female ┆ … ┆ 66.5        ┆ -11.1       ┆ 0.0      ┆ 0.0         │\n",
       "│ 05-11ee-a49 ┆       ┆          ┆        ┆   ┆             ┆             ┆          ┆             │\n",
       "│ 2-eaf1cf2f… ┆       ┆          ┆        ┆   ┆             ┆             ┆          ┆             │\n",
       "│ ffe36516-1a ┆ Jody  ┆ Mitchell ┆ Female ┆ … ┆ 66.5        ┆ -11.1       ┆ null     ┆ 0.0         │\n",
       "│ 05-11ee-a49 ┆       ┆          ┆        ┆   ┆             ┆             ┆          ┆             │\n",
       "│ 2-eaf1cf2f… ┆       ┆          ┆        ┆   ┆             ┆             ┆          ┆             │\n",
       "└─────────────┴───────┴──────────┴────────┴───┴─────────────┴─────────────┴──────────┴─────────────┘"
      ]
     },
     "execution_count": 19,
     "metadata": {},
     "output_type": "execute_result"
    }
   ],
   "source": [
    "merged_df"
   ]
  },
  {
   "cell_type": "markdown",
   "id": "df23be4f",
   "metadata": {},
   "source": [
    "### All column calculations based on `weekly` cohort"
   ]
  },
  {
   "cell_type": "code",
   "execution_count": 8,
   "id": "2fe0ceb7",
   "metadata": {},
   "outputs": [],
   "source": [
    "# Cast float to int\n",
    "merged_df = merged_df.with_columns(pl.col('month').cast(pl.Int32), pl.col('week').cast(pl.Int32))"
   ]
  },
  {
   "cell_type": "code",
   "execution_count": 9,
   "id": "8203e96f",
   "metadata": {},
   "outputs": [],
   "source": [
    "# weigh-in rate - number of times a user has weighed themselves during each week/month of treatment\n",
    "\n",
    "# Why treatment start date? - Ex- The user might have been in Trt 1 first, switched to Trt 2 and back to 1\n",
    "\n",
    "merged_df = merged_df.with_columns(pl.col('Weights_UpdatedDate').count().over(['UID', \n",
    "                                                                               'TreatmentTypeID',\n",
    "                                                                               'Treatment_StartDate',\n",
    "                                                                               'week']).alias('weigh_in_rate'))"
   ]
  },
  {
   "cell_type": "code",
   "execution_count": 10,
   "id": "4bf60abe",
   "metadata": {},
   "outputs": [],
   "source": [
    "# Patient starting weight\n",
    "merged_df = merged_df.with_columns(pl.col('Weight').first().over('UID').alias('patient_starting_weight'))"
   ]
  },
  {
   "cell_type": "code",
   "execution_count": 11,
   "id": "1ec6d2d9",
   "metadata": {},
   "outputs": [],
   "source": [
    "# Treatment starting weight\n",
    "merged_df = merged_df.with_columns(pl.col('Weight').first().over(['UID', 'TreatmentTypeID',\n",
    "                                                      'Treatment_StartDate']).alias('treatment_starting_weight'))"
   ]
  },
  {
   "cell_type": "code",
   "execution_count": 12,
   "id": "1e1f3387",
   "metadata": {},
   "outputs": [],
   "source": [
    "# Treatment total body weight loss\n",
    "\n",
    "# The differene between the patient weight at the start of the treatment\n",
    "# and the patient weight at the end of the treatment\n",
    "\n",
    "# Treatment ending weight\n",
    "merged_df = merged_df.with_columns(pl.col('Weight').last().over(['UID', 'TreatmentTypeID',\n",
    "                                                      'Treatment_StartDate']).alias('treatment_ending_weight'))\n",
    "\n",
    "# Difference between treatment ending weight and starting weight\n",
    "merged_df = merged_df.with_columns((pl.col('treatment_ending_weight') - pl.col('treatment_starting_weight')).\\\n",
    "                                   alias('treatment_TBWL'))"
   ]
  },
  {
   "cell_type": "code",
   "execution_count": 13,
   "id": "ac1e6a61",
   "metadata": {},
   "outputs": [],
   "source": [
    "# Patient total body weight loss\n",
    "\n",
    "# The difference between patient weight at the start of the cohort (week/month)\n",
    "# and patient weight at the start of the next cohort (week/month)\n",
    "\n",
    "# Find the weight at the start of eahc week and calculate the consecutive row differences\n",
    "merged_df = merged_df.with_columns(pl.col('Weight').first().over(['UID', 'TreatmentTypeID',\n",
    "                                                               'Treatment_StartDate',\n",
    "                                                               'week']).alias('wgt_diff').diff(-1))\n",
    "\n",
    "# Weight lost each week is the highest wgt_diff each week\n",
    "merged_df = merged_df.with_columns(pl.col('wgt_diff').max().over(['UID', 'TreatmentTypeID',\n",
    "                                                      'Treatment_StartDate',\n",
    "                                                      'week']).alias('patient_TBWL'))"
   ]
  },
  {
   "cell_type": "code",
   "execution_count": 14,
   "id": "b2e212e8",
   "metadata": {},
   "outputs": [],
   "source": [
    "def filters(df, gender='all', min_age=18, max_age=72, ClinicID=5066):\n",
    "    \"\"\"\n",
    "    :params df(DataFrame): Pandas dataframe to filter\n",
    "    :params gender (str): Gender of the user; 'Male' or 'Female' or 'all'\n",
    "    :params min_age (int): Minimum age of the user to be queried\n",
    "    :params max_age (int): Maximum age of the user to be queried\n",
    "    :params ClinicID (int): ClinicID of the clinic that the users go to\n",
    "    \n",
    "    Filters the data (df) based on Gender, Age and Clinic\n",
    "    \"\"\"\n",
    "    \n",
    "    # Gender filter\n",
    "    if gender == 'all':\n",
    "        df = df\n",
    "    elif gender == 'Male':\n",
    "        df = df.filter(pl.col('Gender') == 'Male')\n",
    "    elif gender == 'Female':\n",
    "        df = df.filter(pl.col('Gender') == 'Female')\n",
    "        \n",
    "    # Age filter\n",
    "    # Set min_age and max_age same if you want users of a specific age\n",
    "    # Change min_age and max_age to get users between a certain age\n",
    "    df = df.filter((pl.col('Age') >= min_age) & (pl.col('Age') <= max_age))\n",
    "    \n",
    "    # Clinic filter\n",
    "    df = df.filter(pl.col('ClinicID') == ClinicID)\n",
    "    \n",
    "    return df"
   ]
  },
  {
   "cell_type": "code",
   "execution_count": 15,
   "id": "6dcd3b1c",
   "metadata": {},
   "outputs": [],
   "source": [
    "def data_pipeline(path_to_data, cohort='week', gender='all',\n",
    "                  min_age=18, max_age=72, ClinicID=5066):\n",
    "    \"\"\"\n",
    "    :params path_to_data (str): Path to data\n",
    "    :params cohort (str): To get info monthly, weekly and based on clinic\n",
    "    :params gender (str): Gender of the user; 'Male' or 'Female' or 'all'\n",
    "    :params min_age (int): Minimum age of the user to be queried\n",
    "    :params max_age (int): Maximum age of the user to be queried\n",
    "    :params ClinicID (int): ClinicID of the clinic that the users go to\n",
    "    \n",
    "    Loads dataset, merges them, cleans them, calculates required metrics,\n",
    "    and returns a dataframe with the 'weigh_in_rate', 'patient_starting_weight',\n",
    "    'treatment_starting_weight', 'treatment_TBWL', 'patient_TBWL' metrics for each user cohort wise\n",
    "    \"\"\"\n",
    "    \n",
    "    # Load datasets\n",
    "    users = pl.read_csv(f'{path_to_data}/users.csv', try_parse_dates=True)\n",
    "    weights = pl.read_csv(f'{path_to_data}/weights.csv', try_parse_dates=True)\n",
    "    treatments = pl.read_csv(f'{path_to_data}/treatments.csv', try_parse_dates=True)\n",
    "    \n",
    "    \n",
    "    # Left join dataframes: Users <> Weights, Treatments\n",
    "    uw = users.join(weights, left_on='UID',\n",
    "                    right_on='MasterUserID',\n",
    "                    how='left')\n",
    "    merged_df = uw.join(treatments,\n",
    "                        left_on='UID', right_on='MasterUserID',\n",
    "                        how='left')\n",
    "    \n",
    "    \n",
    "    # Rename columns for better understanding\n",
    "    columns_to_rename = {'CreatedDate': 'UIDCreatedDate',\n",
    "                         'IsActive': 'User_IsActive',\n",
    "                         'CreatedDate_right': 'Weights_CreatedDate',\n",
    "                         'UpdatedDate': 'Weights_UpdatedDate',\n",
    "                         'IsActive_right': 'Weights_IsActive',\n",
    "                         'IsDelete': 'Weights_IsDelete',\n",
    "                         'StartDate': 'Treatment_StartDate',\n",
    "                         }\n",
    "    merged_df = merged_df.rename(columns_to_rename)\n",
    "    \n",
    "    \n",
    "    # Sort the data by 'UID', 'UIDCreatedDate', 'TreatmentTypeID', 'Treatment_StartDate',\n",
    "    # 'Weights_CreatedDate', 'Weights_UpdatedDate'\n",
    "    merged_df = merged_df.sort(by=['UID',\n",
    "                                   'UIDCreatedDate',\n",
    "                                   'TreatmentTypeID',\n",
    "                                   'Treatment_StartDate',\n",
    "                                   'Weights_CreatedDate',\n",
    "                                   'Weights_UpdatedDate'])\n",
    "\n",
    "    \n",
    "    # The difference between the treatment start date and the weights created/updated \n",
    "    # can be used to calculate the month/week from the start of the treatment\n",
    "    # Starting from week/month 1 i.e., first week of treatment instead of zeroth week\n",
    "\n",
    "    merged_df = merged_df.with_columns(days_in_month=pl.lit(30.417))\n",
    "    merged_df = merged_df.with_columns(days_in_week=pl.lit(7))\n",
    "\n",
    "    merged_df = merged_df.with_columns((pl.col('Weights_CreatedDate') - pl.col('Treatment_StartDate')).alias('datediff'))\n",
    "\n",
    "    # Calculate the number of months since treatment start date\n",
    "    merged_df = merged_df.with_columns(((pl.col('datediff') / pl.duration(days=\"days_in_month\")).floor()).alias('month'))\n",
    "\n",
    "    # Calculate the number of weeks since treatment start date\n",
    "    merged_df = merged_df.with_columns(((pl.col('datediff') / pl.duration(days=\"days_in_week\")).floor()).alias('week'))\n",
    "    \n",
    "    # Cast float to int\n",
    "    merged_df = merged_df.with_columns(pl.col('month').cast(pl.Int32), pl.col('week').cast(pl.Int32))\n",
    "    \n",
    "    # weigh-in rate - number of times a user has weighed themselves during each week/month of treatment\n",
    "\n",
    "    # Why treatment start date? - Ex- The user might have been in Trt 1 first, switched to Trt 2 and back to 1\n",
    "\n",
    "    merged_df = merged_df.with_columns(pl.col('Weights_UpdatedDate').count().over(['UID', \n",
    "                                                                               'TreatmentTypeID',\n",
    "                                                                               'Treatment_StartDate',\n",
    "                                                                               'week']).alias('weigh_in_rate'))\n",
    "    \n",
    "    \n",
    "    # Patient starting weight\n",
    "    merged_df = merged_df.with_columns(pl.col('Weight').first().over('UID').alias('patient_starting_weight'))\n",
    "    \n",
    "    \n",
    "    # Treatment starting weight\n",
    "    merged_df = merged_df.with_columns(pl.col('Weight').first().over(['UID', 'TreatmentTypeID',\n",
    "                                                      'Treatment_StartDate']).alias('treatment_starting_weight'))\n",
    "\n",
    "    \n",
    "    # Treatment total body weight loss\n",
    "\n",
    "    # The differene between the patient weight at the start of the treatment\n",
    "    # and the patient weight at the end of the treatment\n",
    "\n",
    "    # Treatment ending weight\n",
    "    merged_df = merged_df.with_columns(pl.col('Weight').last().over(['UID', 'TreatmentTypeID',\n",
    "                                                          'Treatment_StartDate']).alias('treatment_ending_weight'))\n",
    "\n",
    "    # Difference between treatment ending weight and starting weight\n",
    "    merged_df = merged_df.with_columns((pl.col('treatment_ending_weight') - pl.col('treatment_starting_weight')).\\\n",
    "                                       alias('treatment_TBWL'))\n",
    "    \n",
    "    \n",
    "    # Patient total body weight loss\n",
    "\n",
    "    # The difference between patient weight at the start of the cohort (week/month)\n",
    "    # and patient weight at the start of the next cohort (week/month)\n",
    "\n",
    "    # Find the weight at the start of eahc week and calculate the consecutive row differences\n",
    "    merged_df = merged_df.with_columns(pl.col('Weight').first().over(['UID', 'TreatmentTypeID',\n",
    "                                                                   'Treatment_StartDate',\n",
    "                                                                   'week']).alias('wgt_diff').diff(-1))\n",
    "\n",
    "    # Weight lost each week is the highest wgt_diff each week\n",
    "    merged_df = merged_df.with_columns(pl.col('wgt_diff').max().over(['UID', 'TreatmentTypeID',\n",
    "                                                          'Treatment_StartDate',\n",
    "                                                          'week']).alias('patient_TBWL'))\n",
    "\n",
    "    # Drop wgt_diff column\n",
    "    merged_df = merged_df.drop(columns=['wgt_diff', 'days_in_month', 'days_in_week', 'datediff'])\n",
    "    \n",
    "    # Filter\n",
    "    merged_df = filters(merged_df, gender, min_age, max_age, ClinicID)\n",
    "    \n",
    "    \n",
    "    return merged_df"
   ]
  },
  {
   "cell_type": "code",
   "execution_count": 16,
   "id": "ac21b125",
   "metadata": {},
   "outputs": [
    {
     "data": {
      "text/html": [
       "<div><style>\n",
       ".dataframe > thead > tr > th,\n",
       ".dataframe > tbody > tr > td {\n",
       "  text-align: right;\n",
       "  white-space: pre-wrap;\n",
       "}\n",
       "</style>\n",
       "<small>shape: (15, 35)</small><table border=\"1\" class=\"dataframe\"><thead><tr><th>UID</th><th>Name</th><th>LastName</th><th>Gender</th><th>Unit</th><th>Birthday</th><th>Age</th><th>Height</th><th>UIDCreatedDate</th><th>User_IsActive</th><th>ClinicID</th><th>loginId</th><th>success</th><th>Weight</th><th>BMI</th><th>BodyFat</th><th>BodyWater</th><th>Bone</th><th>VisceralFat</th><th>BMR</th><th>MuscleMass</th><th>Weights_CreatedDate</th><th>Weights_UpdatedDate</th><th>Weights_IsActive</th><th>Weights_IsDelete</th><th>TreatmentTypeID</th><th>Treatment_StartDate</th><th>month</th><th>week</th><th>weigh_in_rate</th><th>patient_starting_weight</th><th>treatment_starting_weight</th><th>treatment_ending_weight</th><th>treatment_TBWL</th><th>patient_TBWL</th></tr><tr><td>str</td><td>str</td><td>str</td><td>str</td><td>i64</td><td>datetime[μs]</td><td>i64</td><td>i64</td><td>datetime[μs]</td><td>bool</td><td>i64</td><td>str</td><td>bool</td><td>f64</td><td>f64</td><td>f64</td><td>f64</td><td>f64</td><td>f64</td><td>f64</td><td>f64</td><td>datetime[μs]</td><td>datetime[μs]</td><td>bool</td><td>bool</td><td>i64</td><td>datetime[μs]</td><td>i32</td><td>i32</td><td>u32</td><td>f64</td><td>f64</td><td>f64</td><td>f64</td><td>f64</td></tr></thead><tbody><tr><td>&quot;4db7c732-1a06-…</td><td>&quot;Douglas&quot;</td><td>&quot;Richardson&quot;</td><td>&quot;Male&quot;</td><td>0</td><td>2005-06-18 10:01:54</td><td>18</td><td>167</td><td>2023-05-25 18:54:42</td><td>true</td><td>5066</td><td>null</td><td>false</td><td>83.5</td><td>29.9</td><td>29.8</td><td>50.3</td><td>3.1</td><td>12.9</td><td>1905.8</td><td>56.0</td><td>2023-05-27 18:54:42</td><td>2023-05-27 18:54:42</td><td>true</td><td>false</td><td>1</td><td>2023-05-25 18:54:42</td><td>0</td><td>0</td><td>2</td><td>83.5</td><td>83.5</td><td>80.5</td><td>-3.0</td><td>1.7</td></tr><tr><td>&quot;4db7c732-1a06-…</td><td>&quot;Douglas&quot;</td><td>&quot;Richardson&quot;</td><td>&quot;Male&quot;</td><td>0</td><td>2005-06-18 10:01:54</td><td>18</td><td>167</td><td>2023-05-25 18:54:42</td><td>true</td><td>5066</td><td>null</td><td>false</td><td>83.3</td><td>29.9</td><td>29.7</td><td>50.4</td><td>3.1</td><td>12.9</td><td>1903.7</td><td>55.8</td><td>2023-05-28 18:54:42</td><td>2023-05-28 18:54:42</td><td>true</td><td>false</td><td>1</td><td>2023-05-25 18:54:42</td><td>0</td><td>0</td><td>2</td><td>83.5</td><td>83.5</td><td>80.5</td><td>-3.0</td><td>1.7</td></tr><tr><td>&quot;4db7c732-1a06-…</td><td>&quot;Douglas&quot;</td><td>&quot;Richardson&quot;</td><td>&quot;Male&quot;</td><td>0</td><td>2005-06-18 10:01:54</td><td>18</td><td>167</td><td>2023-05-25 18:54:42</td><td>true</td><td>5066</td><td>null</td><td>false</td><td>81.8</td><td>29.3</td><td>28.9</td><td>50.5</td><td>3.1</td><td>12.6</td><td>1883.9</td><td>55.3</td><td>2023-06-11 18:54:42</td><td>2023-06-11 18:54:42</td><td>true</td><td>false</td><td>1</td><td>2023-05-25 18:54:42</td><td>0</td><td>2</td><td>2</td><td>83.5</td><td>83.5</td><td>80.5</td><td>-3.0</td><td>0.3</td></tr><tr><td>&quot;4db7c732-1a06-…</td><td>&quot;Douglas&quot;</td><td>&quot;Richardson&quot;</td><td>&quot;Male&quot;</td><td>0</td><td>2005-06-18 10:01:54</td><td>18</td><td>167</td><td>2023-05-25 18:54:42</td><td>true</td><td>5066</td><td>null</td><td>false</td><td>81.6</td><td>29.3</td><td>29.0</td><td>50.6</td><td>3.1</td><td>12.7</td><td>1881.0</td><td>55.3</td><td>2023-06-13 18:54:42</td><td>2023-06-13 18:54:42</td><td>true</td><td>false</td><td>1</td><td>2023-05-25 18:54:42</td><td>0</td><td>2</td><td>2</td><td>83.5</td><td>83.5</td><td>80.5</td><td>-3.0</td><td>0.3</td></tr><tr><td>&quot;4db7c732-1a06-…</td><td>&quot;Douglas&quot;</td><td>&quot;Richardson&quot;</td><td>&quot;Male&quot;</td><td>0</td><td>2005-06-18 10:01:54</td><td>18</td><td>167</td><td>2023-05-25 18:54:42</td><td>true</td><td>5066</td><td>null</td><td>false</td><td>81.5</td><td>29.2</td><td>28.8</td><td>50.6</td><td>3.1</td><td>12.7</td><td>1879.3</td><td>54.8</td><td>2023-06-15 18:54:42</td><td>2023-06-15 18:54:42</td><td>true</td><td>false</td><td>1</td><td>2023-05-25 18:54:42</td><td>0</td><td>3</td><td>4</td><td>83.5</td><td>83.5</td><td>80.5</td><td>-3.0</td><td>0.5</td></tr><tr><td>&quot;4db7c732-1a06-…</td><td>&quot;Douglas&quot;</td><td>&quot;Richardson&quot;</td><td>&quot;Male&quot;</td><td>0</td><td>2005-06-18 10:01:54</td><td>18</td><td>167</td><td>2023-05-25 18:54:42</td><td>true</td><td>5066</td><td>null</td><td>false</td><td>81.4</td><td>29.2</td><td>28.8</td><td>51.0</td><td>3.3</td><td>12.7</td><td>1878.8</td><td>54.9</td><td>2023-06-16 18:54:42</td><td>2023-06-16 18:54:42</td><td>true</td><td>false</td><td>1</td><td>2023-05-25 18:54:42</td><td>0</td><td>3</td><td>4</td><td>83.5</td><td>83.5</td><td>80.5</td><td>-3.0</td><td>0.5</td></tr><tr><td>&quot;4db7c732-1a06-…</td><td>&quot;Douglas&quot;</td><td>&quot;Richardson&quot;</td><td>&quot;Male&quot;</td><td>0</td><td>2005-06-18 10:01:54</td><td>18</td><td>167</td><td>2023-05-25 18:54:42</td><td>true</td><td>5066</td><td>null</td><td>false</td><td>81.3</td><td>29.2</td><td>29.6</td><td>51.8</td><td>3.3</td><td>12.7</td><td>1877.3</td><td>54.9</td><td>2023-06-19 18:54:42</td><td>2023-06-19 18:54:42</td><td>true</td><td>false</td><td>1</td><td>2023-05-25 18:54:42</td><td>0</td><td>3</td><td>4</td><td>83.5</td><td>83.5</td><td>80.5</td><td>-3.0</td><td>0.5</td></tr><tr><td>&quot;4db7c732-1a06-…</td><td>&quot;Douglas&quot;</td><td>&quot;Richardson&quot;</td><td>&quot;Male&quot;</td><td>0</td><td>2005-06-18 10:01:54</td><td>18</td><td>167</td><td>2023-05-25 18:54:42</td><td>true</td><td>5066</td><td>null</td><td>false</td><td>81.1</td><td>29.1</td><td>29.6</td><td>52.2</td><td>3.3</td><td>12.7</td><td>1874.6</td><td>54.9</td><td>2023-06-20 18:54:42</td><td>2023-06-20 18:54:42</td><td>true</td><td>false</td><td>1</td><td>2023-05-25 18:54:42</td><td>0</td><td>3</td><td>4</td><td>83.5</td><td>83.5</td><td>80.5</td><td>-3.0</td><td>0.5</td></tr><tr><td>&quot;4db7c732-1a06-…</td><td>&quot;Douglas&quot;</td><td>&quot;Richardson&quot;</td><td>&quot;Male&quot;</td><td>0</td><td>2005-06-18 10:01:54</td><td>18</td><td>167</td><td>2023-05-25 18:54:42</td><td>true</td><td>5066</td><td>null</td><td>false</td><td>81.0</td><td>29.0</td><td>29.6</td><td>52.2</td><td>3.3</td><td>12.7</td><td>1872.6</td><td>53.9</td><td>2023-06-22 18:54:42</td><td>2023-06-22 18:54:42</td><td>true</td><td>false</td><td>1</td><td>2023-05-25 18:54:42</td><td>0</td><td>4</td><td>4</td><td>83.5</td><td>83.5</td><td>80.5</td><td>-3.0</td><td>0.1</td></tr><tr><td>&quot;4db7c732-1a06-…</td><td>&quot;Douglas&quot;</td><td>&quot;Richardson&quot;</td><td>&quot;Male&quot;</td><td>0</td><td>2005-06-18 10:01:54</td><td>18</td><td>167</td><td>2023-05-25 18:54:42</td><td>true</td><td>5066</td><td>null</td><td>false</td><td>81.1</td><td>29.1</td><td>29.6</td><td>52.2</td><td>3.3</td><td>12.7</td><td>1873.5</td><td>53.8</td><td>2023-06-23 18:54:42</td><td>2023-06-23 18:54:42</td><td>true</td><td>false</td><td>1</td><td>2023-05-25 18:54:42</td><td>0</td><td>4</td><td>4</td><td>83.5</td><td>83.5</td><td>80.5</td><td>-3.0</td><td>0.1</td></tr><tr><td>&quot;4db7c732-1a06-…</td><td>&quot;Douglas&quot;</td><td>&quot;Richardson&quot;</td><td>&quot;Male&quot;</td><td>0</td><td>2005-06-18 10:01:54</td><td>18</td><td>167</td><td>2023-05-25 18:54:42</td><td>true</td><td>5066</td><td>null</td><td>false</td><td>80.9</td><td>29.0</td><td>29.6</td><td>52.2</td><td>3.3</td><td>12.7</td><td>1871.5</td><td>53.7</td><td>2023-06-24 18:54:42</td><td>2023-06-24 18:54:42</td><td>true</td><td>false</td><td>1</td><td>2023-05-25 18:54:42</td><td>1</td><td>4</td><td>4</td><td>83.5</td><td>83.5</td><td>80.5</td><td>-3.0</td><td>0.1</td></tr><tr><td>&quot;4db7c732-1a06-…</td><td>&quot;Douglas&quot;</td><td>&quot;Richardson&quot;</td><td>&quot;Male&quot;</td><td>0</td><td>2005-06-18 10:01:54</td><td>18</td><td>167</td><td>2023-05-25 18:54:42</td><td>true</td><td>5066</td><td>null</td><td>false</td><td>80.9</td><td>29.0</td><td>29.6</td><td>52.3</td><td>3.3</td><td>12.7</td><td>1871.3</td><td>53.5</td><td>2023-06-25 18:54:42</td><td>2023-06-25 18:54:42</td><td>true</td><td>false</td><td>1</td><td>2023-05-25 18:54:42</td><td>1</td><td>4</td><td>4</td><td>83.5</td><td>83.5</td><td>80.5</td><td>-3.0</td><td>0.1</td></tr><tr><td>&quot;4db7c732-1a06-…</td><td>&quot;Douglas&quot;</td><td>&quot;Richardson&quot;</td><td>&quot;Male&quot;</td><td>0</td><td>2005-06-18 10:01:54</td><td>18</td><td>167</td><td>2023-05-25 18:54:42</td><td>true</td><td>5066</td><td>null</td><td>false</td><td>80.9</td><td>29.0</td><td>29.7</td><td>52.4</td><td>3.3</td><td>12.7</td><td>1871.0</td><td>53.4</td><td>2023-06-29 18:54:42</td><td>2023-06-29 18:54:42</td><td>true</td><td>false</td><td>1</td><td>2023-05-25 18:54:42</td><td>1</td><td>5</td><td>3</td><td>83.5</td><td>83.5</td><td>80.5</td><td>-3.0</td><td>0.0</td></tr><tr><td>&quot;4db7c732-1a06-…</td><td>&quot;Douglas&quot;</td><td>&quot;Richardson&quot;</td><td>&quot;Male&quot;</td><td>0</td><td>2005-06-18 10:01:54</td><td>18</td><td>167</td><td>2023-05-25 18:54:42</td><td>true</td><td>5066</td><td>null</td><td>false</td><td>81.0</td><td>29.0</td><td>29.7</td><td>52.4</td><td>3.3</td><td>12.7</td><td>1873.0</td><td>53.4</td><td>2023-06-30 18:54:42</td><td>2023-06-30 18:54:42</td><td>true</td><td>false</td><td>1</td><td>2023-05-25 18:54:42</td><td>1</td><td>5</td><td>3</td><td>83.5</td><td>83.5</td><td>80.5</td><td>-3.0</td><td>0.0</td></tr><tr><td>&quot;4db7c732-1a06-…</td><td>&quot;Douglas&quot;</td><td>&quot;Richardson&quot;</td><td>&quot;Male&quot;</td><td>0</td><td>2005-06-18 10:01:54</td><td>18</td><td>167</td><td>2023-05-25 18:54:42</td><td>true</td><td>5066</td><td>null</td><td>false</td><td>80.5</td><td>28.9</td><td>29.9</td><td>52.3</td><td>3.3</td><td>12.7</td><td>1866.1</td><td>53.3</td><td>2023-07-03 18:54:42</td><td>2023-07-03 18:54:42</td><td>true</td><td>false</td><td>1</td><td>2023-05-25 18:54:42</td><td>1</td><td>5</td><td>3</td><td>83.5</td><td>83.5</td><td>80.5</td><td>-3.0</td><td>0.0</td></tr></tbody></table></div>"
      ],
      "text/plain": [
       "shape: (15, 35)\n",
       "┌────────────┬─────────┬────────────┬────────┬───┬────────────┬────────────┬───────────┬───────────┐\n",
       "│ UID        ┆ Name    ┆ LastName   ┆ Gender ┆ … ┆ treatment_ ┆ treatment_ ┆ treatment ┆ patient_T │\n",
       "│ ---        ┆ ---     ┆ ---        ┆ ---    ┆   ┆ starting_w ┆ ending_wei ┆ _TBWL     ┆ BWL       │\n",
       "│ str        ┆ str     ┆ str        ┆ str    ┆   ┆ eight      ┆ ght        ┆ ---       ┆ ---       │\n",
       "│            ┆         ┆            ┆        ┆   ┆ ---        ┆ ---        ┆ f64       ┆ f64       │\n",
       "│            ┆         ┆            ┆        ┆   ┆ f64        ┆ f64        ┆           ┆           │\n",
       "╞════════════╪═════════╪════════════╪════════╪═══╪════════════╪════════════╪═══════════╪═══════════╡\n",
       "│ 4db7c732-1 ┆ Douglas ┆ Richardson ┆ Male   ┆ … ┆ 83.5       ┆ 80.5       ┆ -3.0      ┆ 1.7       │\n",
       "│ a06-11ee-a ┆         ┆            ┆        ┆   ┆            ┆            ┆           ┆           │\n",
       "│ 492-eaf1cf ┆         ┆            ┆        ┆   ┆            ┆            ┆           ┆           │\n",
       "│ 2f…        ┆         ┆            ┆        ┆   ┆            ┆            ┆           ┆           │\n",
       "│ 4db7c732-1 ┆ Douglas ┆ Richardson ┆ Male   ┆ … ┆ 83.5       ┆ 80.5       ┆ -3.0      ┆ 1.7       │\n",
       "│ a06-11ee-a ┆         ┆            ┆        ┆   ┆            ┆            ┆           ┆           │\n",
       "│ 492-eaf1cf ┆         ┆            ┆        ┆   ┆            ┆            ┆           ┆           │\n",
       "│ 2f…        ┆         ┆            ┆        ┆   ┆            ┆            ┆           ┆           │\n",
       "│ 4db7c732-1 ┆ Douglas ┆ Richardson ┆ Male   ┆ … ┆ 83.5       ┆ 80.5       ┆ -3.0      ┆ 0.3       │\n",
       "│ a06-11ee-a ┆         ┆            ┆        ┆   ┆            ┆            ┆           ┆           │\n",
       "│ 492-eaf1cf ┆         ┆            ┆        ┆   ┆            ┆            ┆           ┆           │\n",
       "│ 2f…        ┆         ┆            ┆        ┆   ┆            ┆            ┆           ┆           │\n",
       "│ 4db7c732-1 ┆ Douglas ┆ Richardson ┆ Male   ┆ … ┆ 83.5       ┆ 80.5       ┆ -3.0      ┆ 0.3       │\n",
       "│ a06-11ee-a ┆         ┆            ┆        ┆   ┆            ┆            ┆           ┆           │\n",
       "│ 492-eaf1cf ┆         ┆            ┆        ┆   ┆            ┆            ┆           ┆           │\n",
       "│ 2f…        ┆         ┆            ┆        ┆   ┆            ┆            ┆           ┆           │\n",
       "│ …          ┆ …       ┆ …          ┆ …      ┆ … ┆ …          ┆ …          ┆ …         ┆ …         │\n",
       "│ 4db7c732-1 ┆ Douglas ┆ Richardson ┆ Male   ┆ … ┆ 83.5       ┆ 80.5       ┆ -3.0      ┆ 0.1       │\n",
       "│ a06-11ee-a ┆         ┆            ┆        ┆   ┆            ┆            ┆           ┆           │\n",
       "│ 492-eaf1cf ┆         ┆            ┆        ┆   ┆            ┆            ┆           ┆           │\n",
       "│ 2f…        ┆         ┆            ┆        ┆   ┆            ┆            ┆           ┆           │\n",
       "│ 4db7c732-1 ┆ Douglas ┆ Richardson ┆ Male   ┆ … ┆ 83.5       ┆ 80.5       ┆ -3.0      ┆ 0.0       │\n",
       "│ a06-11ee-a ┆         ┆            ┆        ┆   ┆            ┆            ┆           ┆           │\n",
       "│ 492-eaf1cf ┆         ┆            ┆        ┆   ┆            ┆            ┆           ┆           │\n",
       "│ 2f…        ┆         ┆            ┆        ┆   ┆            ┆            ┆           ┆           │\n",
       "│ 4db7c732-1 ┆ Douglas ┆ Richardson ┆ Male   ┆ … ┆ 83.5       ┆ 80.5       ┆ -3.0      ┆ 0.0       │\n",
       "│ a06-11ee-a ┆         ┆            ┆        ┆   ┆            ┆            ┆           ┆           │\n",
       "│ 492-eaf1cf ┆         ┆            ┆        ┆   ┆            ┆            ┆           ┆           │\n",
       "│ 2f…        ┆         ┆            ┆        ┆   ┆            ┆            ┆           ┆           │\n",
       "│ 4db7c732-1 ┆ Douglas ┆ Richardson ┆ Male   ┆ … ┆ 83.5       ┆ 80.5       ┆ -3.0      ┆ 0.0       │\n",
       "│ a06-11ee-a ┆         ┆            ┆        ┆   ┆            ┆            ┆           ┆           │\n",
       "│ 492-eaf1cf ┆         ┆            ┆        ┆   ┆            ┆            ┆           ┆           │\n",
       "│ 2f…        ┆         ┆            ┆        ┆   ┆            ┆            ┆           ┆           │\n",
       "└────────────┴─────────┴────────────┴────────┴───┴────────────┴────────────┴───────────┴───────────┘"
      ]
     },
     "execution_count": 16,
     "metadata": {},
     "output_type": "execute_result"
    }
   ],
   "source": [
    "data_pipeline('Data/', gender='Male', max_age=18)"
   ]
  },
  {
   "cell_type": "code",
   "execution_count": 17,
   "id": "a380e78e",
   "metadata": {},
   "outputs": [
    {
     "data": {
      "text/html": [
       "<div><style>\n",
       ".dataframe > thead > tr > th,\n",
       ".dataframe > tbody > tr > td {\n",
       "  text-align: right;\n",
       "  white-space: pre-wrap;\n",
       "}\n",
       "</style>\n",
       "<small>shape: (15, 35)</small><table border=\"1\" class=\"dataframe\"><thead><tr><th>UID</th><th>Name</th><th>LastName</th><th>Gender</th><th>Unit</th><th>Birthday</th><th>Age</th><th>Height</th><th>UIDCreatedDate</th><th>User_IsActive</th><th>ClinicID</th><th>loginId</th><th>success</th><th>Weight</th><th>BMI</th><th>BodyFat</th><th>BodyWater</th><th>Bone</th><th>VisceralFat</th><th>BMR</th><th>MuscleMass</th><th>Weights_CreatedDate</th><th>Weights_UpdatedDate</th><th>Weights_IsActive</th><th>Weights_IsDelete</th><th>TreatmentTypeID</th><th>Treatment_StartDate</th><th>month</th><th>week</th><th>weigh_in_rate</th><th>patient_starting_weight</th><th>treatment_starting_weight</th><th>treatment_ending_weight</th><th>treatment_TBWL</th><th>patient_TBWL</th></tr><tr><td>str</td><td>str</td><td>str</td><td>str</td><td>i64</td><td>datetime[μs]</td><td>i64</td><td>i64</td><td>datetime[μs]</td><td>bool</td><td>i64</td><td>str</td><td>bool</td><td>f64</td><td>f64</td><td>f64</td><td>f64</td><td>f64</td><td>f64</td><td>f64</td><td>f64</td><td>datetime[μs]</td><td>datetime[μs]</td><td>bool</td><td>bool</td><td>i64</td><td>datetime[μs]</td><td>i32</td><td>i32</td><td>u32</td><td>f64</td><td>f64</td><td>f64</td><td>f64</td><td>f64</td></tr></thead><tbody><tr><td>&quot;4db7c732-1a06-…</td><td>&quot;Douglas&quot;</td><td>&quot;Richardson&quot;</td><td>&quot;Male&quot;</td><td>0</td><td>2005-06-18 10:01:54</td><td>18</td><td>167</td><td>2023-05-25 18:54:42</td><td>true</td><td>5066</td><td>null</td><td>false</td><td>83.5</td><td>29.9</td><td>29.8</td><td>50.3</td><td>3.1</td><td>12.9</td><td>1905.8</td><td>56.0</td><td>2023-05-27 18:54:42</td><td>2023-05-27 18:54:42</td><td>true</td><td>false</td><td>1</td><td>2023-05-25 18:54:42</td><td>0</td><td>0</td><td>2</td><td>83.5</td><td>83.5</td><td>80.5</td><td>-3.0</td><td>1.7</td></tr><tr><td>&quot;4db7c732-1a06-…</td><td>&quot;Douglas&quot;</td><td>&quot;Richardson&quot;</td><td>&quot;Male&quot;</td><td>0</td><td>2005-06-18 10:01:54</td><td>18</td><td>167</td><td>2023-05-25 18:54:42</td><td>true</td><td>5066</td><td>null</td><td>false</td><td>83.3</td><td>29.9</td><td>29.7</td><td>50.4</td><td>3.1</td><td>12.9</td><td>1903.7</td><td>55.8</td><td>2023-05-28 18:54:42</td><td>2023-05-28 18:54:42</td><td>true</td><td>false</td><td>1</td><td>2023-05-25 18:54:42</td><td>0</td><td>0</td><td>2</td><td>83.5</td><td>83.5</td><td>80.5</td><td>-3.0</td><td>1.7</td></tr><tr><td>&quot;4db7c732-1a06-…</td><td>&quot;Douglas&quot;</td><td>&quot;Richardson&quot;</td><td>&quot;Male&quot;</td><td>0</td><td>2005-06-18 10:01:54</td><td>18</td><td>167</td><td>2023-05-25 18:54:42</td><td>true</td><td>5066</td><td>null</td><td>false</td><td>81.8</td><td>29.3</td><td>28.9</td><td>50.5</td><td>3.1</td><td>12.6</td><td>1883.9</td><td>55.3</td><td>2023-06-11 18:54:42</td><td>2023-06-11 18:54:42</td><td>true</td><td>false</td><td>1</td><td>2023-05-25 18:54:42</td><td>0</td><td>2</td><td>2</td><td>83.5</td><td>83.5</td><td>80.5</td><td>-3.0</td><td>0.3</td></tr><tr><td>&quot;4db7c732-1a06-…</td><td>&quot;Douglas&quot;</td><td>&quot;Richardson&quot;</td><td>&quot;Male&quot;</td><td>0</td><td>2005-06-18 10:01:54</td><td>18</td><td>167</td><td>2023-05-25 18:54:42</td><td>true</td><td>5066</td><td>null</td><td>false</td><td>81.6</td><td>29.3</td><td>29.0</td><td>50.6</td><td>3.1</td><td>12.7</td><td>1881.0</td><td>55.3</td><td>2023-06-13 18:54:42</td><td>2023-06-13 18:54:42</td><td>true</td><td>false</td><td>1</td><td>2023-05-25 18:54:42</td><td>0</td><td>2</td><td>2</td><td>83.5</td><td>83.5</td><td>80.5</td><td>-3.0</td><td>0.3</td></tr><tr><td>&quot;4db7c732-1a06-…</td><td>&quot;Douglas&quot;</td><td>&quot;Richardson&quot;</td><td>&quot;Male&quot;</td><td>0</td><td>2005-06-18 10:01:54</td><td>18</td><td>167</td><td>2023-05-25 18:54:42</td><td>true</td><td>5066</td><td>null</td><td>false</td><td>81.5</td><td>29.2</td><td>28.8</td><td>50.6</td><td>3.1</td><td>12.7</td><td>1879.3</td><td>54.8</td><td>2023-06-15 18:54:42</td><td>2023-06-15 18:54:42</td><td>true</td><td>false</td><td>1</td><td>2023-05-25 18:54:42</td><td>0</td><td>3</td><td>4</td><td>83.5</td><td>83.5</td><td>80.5</td><td>-3.0</td><td>0.5</td></tr><tr><td>&quot;4db7c732-1a06-…</td><td>&quot;Douglas&quot;</td><td>&quot;Richardson&quot;</td><td>&quot;Male&quot;</td><td>0</td><td>2005-06-18 10:01:54</td><td>18</td><td>167</td><td>2023-05-25 18:54:42</td><td>true</td><td>5066</td><td>null</td><td>false</td><td>81.4</td><td>29.2</td><td>28.8</td><td>51.0</td><td>3.3</td><td>12.7</td><td>1878.8</td><td>54.9</td><td>2023-06-16 18:54:42</td><td>2023-06-16 18:54:42</td><td>true</td><td>false</td><td>1</td><td>2023-05-25 18:54:42</td><td>0</td><td>3</td><td>4</td><td>83.5</td><td>83.5</td><td>80.5</td><td>-3.0</td><td>0.5</td></tr><tr><td>&quot;4db7c732-1a06-…</td><td>&quot;Douglas&quot;</td><td>&quot;Richardson&quot;</td><td>&quot;Male&quot;</td><td>0</td><td>2005-06-18 10:01:54</td><td>18</td><td>167</td><td>2023-05-25 18:54:42</td><td>true</td><td>5066</td><td>null</td><td>false</td><td>81.3</td><td>29.2</td><td>29.6</td><td>51.8</td><td>3.3</td><td>12.7</td><td>1877.3</td><td>54.9</td><td>2023-06-19 18:54:42</td><td>2023-06-19 18:54:42</td><td>true</td><td>false</td><td>1</td><td>2023-05-25 18:54:42</td><td>0</td><td>3</td><td>4</td><td>83.5</td><td>83.5</td><td>80.5</td><td>-3.0</td><td>0.5</td></tr><tr><td>&quot;4db7c732-1a06-…</td><td>&quot;Douglas&quot;</td><td>&quot;Richardson&quot;</td><td>&quot;Male&quot;</td><td>0</td><td>2005-06-18 10:01:54</td><td>18</td><td>167</td><td>2023-05-25 18:54:42</td><td>true</td><td>5066</td><td>null</td><td>false</td><td>81.1</td><td>29.1</td><td>29.6</td><td>52.2</td><td>3.3</td><td>12.7</td><td>1874.6</td><td>54.9</td><td>2023-06-20 18:54:42</td><td>2023-06-20 18:54:42</td><td>true</td><td>false</td><td>1</td><td>2023-05-25 18:54:42</td><td>0</td><td>3</td><td>4</td><td>83.5</td><td>83.5</td><td>80.5</td><td>-3.0</td><td>0.5</td></tr><tr><td>&quot;4db7c732-1a06-…</td><td>&quot;Douglas&quot;</td><td>&quot;Richardson&quot;</td><td>&quot;Male&quot;</td><td>0</td><td>2005-06-18 10:01:54</td><td>18</td><td>167</td><td>2023-05-25 18:54:42</td><td>true</td><td>5066</td><td>null</td><td>false</td><td>81.0</td><td>29.0</td><td>29.6</td><td>52.2</td><td>3.3</td><td>12.7</td><td>1872.6</td><td>53.9</td><td>2023-06-22 18:54:42</td><td>2023-06-22 18:54:42</td><td>true</td><td>false</td><td>1</td><td>2023-05-25 18:54:42</td><td>0</td><td>4</td><td>4</td><td>83.5</td><td>83.5</td><td>80.5</td><td>-3.0</td><td>0.1</td></tr><tr><td>&quot;4db7c732-1a06-…</td><td>&quot;Douglas&quot;</td><td>&quot;Richardson&quot;</td><td>&quot;Male&quot;</td><td>0</td><td>2005-06-18 10:01:54</td><td>18</td><td>167</td><td>2023-05-25 18:54:42</td><td>true</td><td>5066</td><td>null</td><td>false</td><td>81.1</td><td>29.1</td><td>29.6</td><td>52.2</td><td>3.3</td><td>12.7</td><td>1873.5</td><td>53.8</td><td>2023-06-23 18:54:42</td><td>2023-06-23 18:54:42</td><td>true</td><td>false</td><td>1</td><td>2023-05-25 18:54:42</td><td>0</td><td>4</td><td>4</td><td>83.5</td><td>83.5</td><td>80.5</td><td>-3.0</td><td>0.1</td></tr><tr><td>&quot;4db7c732-1a06-…</td><td>&quot;Douglas&quot;</td><td>&quot;Richardson&quot;</td><td>&quot;Male&quot;</td><td>0</td><td>2005-06-18 10:01:54</td><td>18</td><td>167</td><td>2023-05-25 18:54:42</td><td>true</td><td>5066</td><td>null</td><td>false</td><td>80.9</td><td>29.0</td><td>29.6</td><td>52.2</td><td>3.3</td><td>12.7</td><td>1871.5</td><td>53.7</td><td>2023-06-24 18:54:42</td><td>2023-06-24 18:54:42</td><td>true</td><td>false</td><td>1</td><td>2023-05-25 18:54:42</td><td>1</td><td>4</td><td>4</td><td>83.5</td><td>83.5</td><td>80.5</td><td>-3.0</td><td>0.1</td></tr><tr><td>&quot;4db7c732-1a06-…</td><td>&quot;Douglas&quot;</td><td>&quot;Richardson&quot;</td><td>&quot;Male&quot;</td><td>0</td><td>2005-06-18 10:01:54</td><td>18</td><td>167</td><td>2023-05-25 18:54:42</td><td>true</td><td>5066</td><td>null</td><td>false</td><td>80.9</td><td>29.0</td><td>29.6</td><td>52.3</td><td>3.3</td><td>12.7</td><td>1871.3</td><td>53.5</td><td>2023-06-25 18:54:42</td><td>2023-06-25 18:54:42</td><td>true</td><td>false</td><td>1</td><td>2023-05-25 18:54:42</td><td>1</td><td>4</td><td>4</td><td>83.5</td><td>83.5</td><td>80.5</td><td>-3.0</td><td>0.1</td></tr><tr><td>&quot;4db7c732-1a06-…</td><td>&quot;Douglas&quot;</td><td>&quot;Richardson&quot;</td><td>&quot;Male&quot;</td><td>0</td><td>2005-06-18 10:01:54</td><td>18</td><td>167</td><td>2023-05-25 18:54:42</td><td>true</td><td>5066</td><td>null</td><td>false</td><td>80.9</td><td>29.0</td><td>29.7</td><td>52.4</td><td>3.3</td><td>12.7</td><td>1871.0</td><td>53.4</td><td>2023-06-29 18:54:42</td><td>2023-06-29 18:54:42</td><td>true</td><td>false</td><td>1</td><td>2023-05-25 18:54:42</td><td>1</td><td>5</td><td>3</td><td>83.5</td><td>83.5</td><td>80.5</td><td>-3.0</td><td>0.0</td></tr><tr><td>&quot;4db7c732-1a06-…</td><td>&quot;Douglas&quot;</td><td>&quot;Richardson&quot;</td><td>&quot;Male&quot;</td><td>0</td><td>2005-06-18 10:01:54</td><td>18</td><td>167</td><td>2023-05-25 18:54:42</td><td>true</td><td>5066</td><td>null</td><td>false</td><td>81.0</td><td>29.0</td><td>29.7</td><td>52.4</td><td>3.3</td><td>12.7</td><td>1873.0</td><td>53.4</td><td>2023-06-30 18:54:42</td><td>2023-06-30 18:54:42</td><td>true</td><td>false</td><td>1</td><td>2023-05-25 18:54:42</td><td>1</td><td>5</td><td>3</td><td>83.5</td><td>83.5</td><td>80.5</td><td>-3.0</td><td>0.0</td></tr><tr><td>&quot;4db7c732-1a06-…</td><td>&quot;Douglas&quot;</td><td>&quot;Richardson&quot;</td><td>&quot;Male&quot;</td><td>0</td><td>2005-06-18 10:01:54</td><td>18</td><td>167</td><td>2023-05-25 18:54:42</td><td>true</td><td>5066</td><td>null</td><td>false</td><td>80.5</td><td>28.9</td><td>29.9</td><td>52.3</td><td>3.3</td><td>12.7</td><td>1866.1</td><td>53.3</td><td>2023-07-03 18:54:42</td><td>2023-07-03 18:54:42</td><td>true</td><td>false</td><td>1</td><td>2023-05-25 18:54:42</td><td>1</td><td>5</td><td>3</td><td>83.5</td><td>83.5</td><td>80.5</td><td>-3.0</td><td>0.0</td></tr></tbody></table></div>"
      ],
      "text/plain": [
       "shape: (15, 35)\n",
       "┌────────────┬─────────┬────────────┬────────┬───┬────────────┬────────────┬───────────┬───────────┐\n",
       "│ UID        ┆ Name    ┆ LastName   ┆ Gender ┆ … ┆ treatment_ ┆ treatment_ ┆ treatment ┆ patient_T │\n",
       "│ ---        ┆ ---     ┆ ---        ┆ ---    ┆   ┆ starting_w ┆ ending_wei ┆ _TBWL     ┆ BWL       │\n",
       "│ str        ┆ str     ┆ str        ┆ str    ┆   ┆ eight      ┆ ght        ┆ ---       ┆ ---       │\n",
       "│            ┆         ┆            ┆        ┆   ┆ ---        ┆ ---        ┆ f64       ┆ f64       │\n",
       "│            ┆         ┆            ┆        ┆   ┆ f64        ┆ f64        ┆           ┆           │\n",
       "╞════════════╪═════════╪════════════╪════════╪═══╪════════════╪════════════╪═══════════╪═══════════╡\n",
       "│ 4db7c732-1 ┆ Douglas ┆ Richardson ┆ Male   ┆ … ┆ 83.5       ┆ 80.5       ┆ -3.0      ┆ 1.7       │\n",
       "│ a06-11ee-a ┆         ┆            ┆        ┆   ┆            ┆            ┆           ┆           │\n",
       "│ 492-eaf1cf ┆         ┆            ┆        ┆   ┆            ┆            ┆           ┆           │\n",
       "│ 2f…        ┆         ┆            ┆        ┆   ┆            ┆            ┆           ┆           │\n",
       "│ 4db7c732-1 ┆ Douglas ┆ Richardson ┆ Male   ┆ … ┆ 83.5       ┆ 80.5       ┆ -3.0      ┆ 1.7       │\n",
       "│ a06-11ee-a ┆         ┆            ┆        ┆   ┆            ┆            ┆           ┆           │\n",
       "│ 492-eaf1cf ┆         ┆            ┆        ┆   ┆            ┆            ┆           ┆           │\n",
       "│ 2f…        ┆         ┆            ┆        ┆   ┆            ┆            ┆           ┆           │\n",
       "│ 4db7c732-1 ┆ Douglas ┆ Richardson ┆ Male   ┆ … ┆ 83.5       ┆ 80.5       ┆ -3.0      ┆ 0.3       │\n",
       "│ a06-11ee-a ┆         ┆            ┆        ┆   ┆            ┆            ┆           ┆           │\n",
       "│ 492-eaf1cf ┆         ┆            ┆        ┆   ┆            ┆            ┆           ┆           │\n",
       "│ 2f…        ┆         ┆            ┆        ┆   ┆            ┆            ┆           ┆           │\n",
       "│ 4db7c732-1 ┆ Douglas ┆ Richardson ┆ Male   ┆ … ┆ 83.5       ┆ 80.5       ┆ -3.0      ┆ 0.3       │\n",
       "│ a06-11ee-a ┆         ┆            ┆        ┆   ┆            ┆            ┆           ┆           │\n",
       "│ 492-eaf1cf ┆         ┆            ┆        ┆   ┆            ┆            ┆           ┆           │\n",
       "│ 2f…        ┆         ┆            ┆        ┆   ┆            ┆            ┆           ┆           │\n",
       "│ …          ┆ …       ┆ …          ┆ …      ┆ … ┆ …          ┆ …          ┆ …         ┆ …         │\n",
       "│ 4db7c732-1 ┆ Douglas ┆ Richardson ┆ Male   ┆ … ┆ 83.5       ┆ 80.5       ┆ -3.0      ┆ 0.1       │\n",
       "│ a06-11ee-a ┆         ┆            ┆        ┆   ┆            ┆            ┆           ┆           │\n",
       "│ 492-eaf1cf ┆         ┆            ┆        ┆   ┆            ┆            ┆           ┆           │\n",
       "│ 2f…        ┆         ┆            ┆        ┆   ┆            ┆            ┆           ┆           │\n",
       "│ 4db7c732-1 ┆ Douglas ┆ Richardson ┆ Male   ┆ … ┆ 83.5       ┆ 80.5       ┆ -3.0      ┆ 0.0       │\n",
       "│ a06-11ee-a ┆         ┆            ┆        ┆   ┆            ┆            ┆           ┆           │\n",
       "│ 492-eaf1cf ┆         ┆            ┆        ┆   ┆            ┆            ┆           ┆           │\n",
       "│ 2f…        ┆         ┆            ┆        ┆   ┆            ┆            ┆           ┆           │\n",
       "│ 4db7c732-1 ┆ Douglas ┆ Richardson ┆ Male   ┆ … ┆ 83.5       ┆ 80.5       ┆ -3.0      ┆ 0.0       │\n",
       "│ a06-11ee-a ┆         ┆            ┆        ┆   ┆            ┆            ┆           ┆           │\n",
       "│ 492-eaf1cf ┆         ┆            ┆        ┆   ┆            ┆            ┆           ┆           │\n",
       "│ 2f…        ┆         ┆            ┆        ┆   ┆            ┆            ┆           ┆           │\n",
       "│ 4db7c732-1 ┆ Douglas ┆ Richardson ┆ Male   ┆ … ┆ 83.5       ┆ 80.5       ┆ -3.0      ┆ 0.0       │\n",
       "│ a06-11ee-a ┆         ┆            ┆        ┆   ┆            ┆            ┆           ┆           │\n",
       "│ 492-eaf1cf ┆         ┆            ┆        ┆   ┆            ┆            ┆           ┆           │\n",
       "│ 2f…        ┆         ┆            ┆        ┆   ┆            ┆            ┆           ┆           │\n",
       "└────────────┴─────────┴────────────┴────────┴───┴────────────┴────────────┴───────────┴───────────┘"
      ]
     },
     "execution_count": 17,
     "metadata": {},
     "output_type": "execute_result"
    }
   ],
   "source": [
    "data_pipeline('Data/', cohort= 'month', gender='Male', max_age=18)"
   ]
  },
  {
   "cell_type": "code",
   "execution_count": 20,
   "id": "754e228e",
   "metadata": {},
   "outputs": [
    {
     "data": {
      "text/html": [
       "<div><style>\n",
       ".dataframe > thead > tr > th,\n",
       ".dataframe > tbody > tr > td {\n",
       "  text-align: right;\n",
       "  white-space: pre-wrap;\n",
       "}\n",
       "</style>\n",
       "<small>shape: (32_073, 2)</small><table border=\"1\" class=\"dataframe\"><thead><tr><th>week</th><th>month</th></tr><tr><td>f64</td><td>f64</td></tr></thead><tbody><tr><td>0.0</td><td>0.0</td></tr><tr><td>1.0</td><td>0.0</td></tr><tr><td>2.0</td><td>0.0</td></tr><tr><td>2.0</td><td>0.0</td></tr><tr><td>3.0</td><td>0.0</td></tr><tr><td>3.0</td><td>0.0</td></tr><tr><td>4.0</td><td>1.0</td></tr><tr><td>4.0</td><td>1.0</td></tr><tr><td>4.0</td><td>1.0</td></tr><tr><td>5.0</td><td>1.0</td></tr><tr><td>5.0</td><td>1.0</td></tr><tr><td>5.0</td><td>1.0</td></tr><tr><td>&hellip;</td><td>&hellip;</td></tr><tr><td>8.0</td><td>1.0</td></tr><tr><td>8.0</td><td>1.0</td></tr><tr><td>8.0</td><td>2.0</td></tr><tr><td>9.0</td><td>2.0</td></tr><tr><td>9.0</td><td>2.0</td></tr><tr><td>9.0</td><td>2.0</td></tr><tr><td>9.0</td><td>2.0</td></tr><tr><td>10.0</td><td>2.0</td></tr><tr><td>10.0</td><td>2.0</td></tr><tr><td>11.0</td><td>2.0</td></tr><tr><td>11.0</td><td>2.0</td></tr><tr><td>11.0</td><td>2.0</td></tr></tbody></table></div>"
      ],
      "text/plain": [
       "shape: (32_073, 2)\n",
       "┌──────┬───────┐\n",
       "│ week ┆ month │\n",
       "│ ---  ┆ ---   │\n",
       "│ f64  ┆ f64   │\n",
       "╞══════╪═══════╡\n",
       "│ 0.0  ┆ 0.0   │\n",
       "│ 1.0  ┆ 0.0   │\n",
       "│ 2.0  ┆ 0.0   │\n",
       "│ 2.0  ┆ 0.0   │\n",
       "│ …    ┆ …     │\n",
       "│ 10.0 ┆ 2.0   │\n",
       "│ 11.0 ┆ 2.0   │\n",
       "│ 11.0 ┆ 2.0   │\n",
       "│ 11.0 ┆ 2.0   │\n",
       "└──────┴───────┘"
      ]
     },
     "execution_count": 20,
     "metadata": {},
     "output_type": "execute_result"
    }
   ],
   "source": [
    "merged_df[['week', 'month']]"
   ]
  },
  {
   "cell_type": "code",
   "execution_count": null,
   "id": "6beef516",
   "metadata": {},
   "outputs": [],
   "source": []
  }
 ],
 "metadata": {
  "kernelspec": {
   "display_name": "Python 3 (ipykernel)",
   "language": "python",
   "name": "python3"
  },
  "language_info": {
   "codemirror_mode": {
    "name": "ipython",
    "version": 3
   },
   "file_extension": ".py",
   "mimetype": "text/x-python",
   "name": "python",
   "nbconvert_exporter": "python",
   "pygments_lexer": "ipython3",
   "version": "3.9.12"
  }
 },
 "nbformat": 4,
 "nbformat_minor": 5
}
